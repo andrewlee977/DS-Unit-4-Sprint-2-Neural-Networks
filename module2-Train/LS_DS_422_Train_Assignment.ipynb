{
 "cells": [
  {
   "cell_type": "markdown",
   "metadata": {
    "colab_type": "text",
    "id": "NGGrt9EYlCqY"
   },
   "source": [
    "\n",
    "\n",
    "# Train Practice\n",
    "\n",
    "## *Data Science Unit 4 Sprint 2 Assignment 2*\n",
    "\n",
    "Continue to use TensorFlow Keras & a sample of the [Quickdraw dataset](https://github.com/googlecreativelab/quickdraw-dataset) to build a sketch classification model. The dataset has been sampled to only 10 classes and 10000 observations per class. Please build a baseline classification model then run a few experiments with different optimizers and learning rates. \n",
    "\n",
    "*Don't forgot to switch to GPU on Colab!*\n",
    "\n",
    "\n",
    "------\n",
    "\n",
    "# Objective \n",
    "\n",
    "We are going to run a few experiments today\n",
    "\n",
    "- Train a model with and without normalized data and investigate the weight values and learning outcomes\n",
    "- Train a model with varying values for batch_size, learning_rate, and optimizers\n",
    "\n",
    "We are essentially running mannual gridsearches on our models. In module 3, we'll learn a few different ways to automate gridseach for deep learning. "
   ]
  },
  {
   "cell_type": "code",
   "execution_count": 2,
   "metadata": {},
   "outputs": [],
   "source": [
    "import os\n",
    "import datetime\n",
    "import random\n",
    "\n",
    "import numpy as np\n",
    "import pandas as pd\n",
    "import matplotlib.pyplot as plt\n",
    "\n",
    "import tensorflow as tf\n",
    "from tensorflow.keras import Sequential\n",
    "from tensorflow.keras.layers import Dense, ReLU\n",
    "from sklearn.model_selection import train_test_split\n",
    "\n",
    "from keras.optimizers import Adam, SGD, RMSprop, Nadam, Adadelta\n",
    "from keras.activations import relu\n",
    "from tensorflow.keras.callbacks import TensorBoard"
   ]
  },
  {
   "cell_type": "code",
   "execution_count": 3,
   "metadata": {},
   "outputs": [],
   "source": [
    "%matplotlib inline\n",
    "%load_ext tensorboard"
   ]
  },
  {
   "cell_type": "markdown",
   "metadata": {},
   "source": [
    "### Load data\n",
    "\n",
    "- Don't normalize your data just yet!"
   ]
  },
  {
   "cell_type": "code",
   "execution_count": 4,
   "metadata": {
    "colab": {},
    "colab_type": "code",
    "id": "nJsIsrvp7O3e"
   },
   "outputs": [],
   "source": [
    "def load_quickdraw10():\n",
    "    \"\"\"\n",
    "    Fill out this doc string, and comment the code, for practice in writing the kind of code that will get you hired. \n",
    "    \"\"\"\n",
    "    \n",
    "    URL_ = \"https://github.com/LambdaSchool/DS-Unit-4-Sprint-2-Neural-Networks/blob/main/quickdraw10.npz?raw=true\"\n",
    "    \n",
    "    path_to_zip = tf.keras.utils.get_file('./quickdraw10.npz', origin=URL_, extract=False)\n",
    "\n",
    "    data = np.load(path_to_zip)\n",
    "\n",
    "    X = data['arr_0']\n",
    "    Y = data['arr_1']\n",
    "        \n",
    "    return train_test_split(X, Y, shuffle=True)"
   ]
  },
  {
   "cell_type": "code",
   "execution_count": 5,
   "metadata": {},
   "outputs": [],
   "source": [
    "X_train, X_test, y_train, y_test = load_quickdraw10()"
   ]
  },
  {
   "cell_type": "code",
   "execution_count": 6,
   "metadata": {},
   "outputs": [
    {
     "data": {
      "text/plain": [
       "(75000, 784)"
      ]
     },
     "execution_count": 6,
     "metadata": {},
     "output_type": "execute_result"
    }
   ],
   "source": [
    "X_train.shape"
   ]
  },
  {
   "cell_type": "code",
   "execution_count": 7,
   "metadata": {},
   "outputs": [
    {
     "data": {
      "text/plain": [
       "(25000, 784)"
      ]
     },
     "execution_count": 7,
     "metadata": {},
     "output_type": "execute_result"
    }
   ],
   "source": [
    "X_test.shape"
   ]
  },
  {
   "cell_type": "code",
   "execution_count": 8,
   "metadata": {},
   "outputs": [],
   "source": [
    "n_labels = len(np.unique(y_train))"
   ]
  },
  {
   "cell_type": "code",
   "execution_count": 9,
   "metadata": {},
   "outputs": [
    {
     "data": {
      "text/plain": [
       "10"
      ]
     },
     "execution_count": 9,
     "metadata": {},
     "output_type": "execute_result"
    }
   ],
   "source": [
    "n_labels"
   ]
  },
  {
   "cell_type": "markdown",
   "metadata": {
    "colab_type": "text",
    "id": "l-6PxI6H5__2"
   },
   "source": [
    "----\n",
    "### Write a Model Function\n",
    "- Write a function called `create_model` which returns a compiled TensorFlow Keras Sequential Model suitable for classifying the QuickDraw-10 dataset. \n",
    "\n",
    "Your function `create_model` should accept the following parameters\n",
    "\n",
    "- Learning Rate `lr`\n",
    "- Optimizer `opt`\n",
    "\n",
    "\n",
    "Build a model with the following architecture and parameter values\n",
    "\n",
    "- Use `1 hidden layer` \n",
    "- Use `sigmoid` activation function in hidden layer\n",
    "- Use `250 nodes` in hidden layer \n",
    "- Use `10 nodes` in output layer\n",
    "- Use `softmax` activation fucntion in output layer\n",
    "- Use `sparse_categorical_crossentropy` loss function\n",
    "- Use `accuracy` as your metric \n",
    "\n",
    "We will use this function to build all the models that we'll need to run our experiments. "
   ]
  },
  {
   "cell_type": "code",
   "execution_count": 10,
   "metadata": {
    "colab": {},
    "colab_type": "code",
    "deletable": false,
    "id": "nEREYT-3wI1f",
    "nbgrader": {
     "cell_type": "code",
     "checksum": "6692fdabca8804cd50380fd4b9a56169",
     "grade": false,
     "grade_id": "cell-355125ca910bfedb",
     "locked": false,
     "schema_version": 3,
     "solution": true,
     "task": false
    }
   },
   "outputs": [],
   "source": [
    "def create_model(lr=.01, opt=\"adam\"):\n",
    "    \"\"\"\n",
    "    \n",
    "    Build and returns a complies Keras model.  \n",
    "    \n",
    "    Parameters\n",
    "    ----------\n",
    "    lr: float\n",
    "        Learing rate parameter used for Stocastic Gradient Descent \n",
    "        \n",
    "    opt: string\n",
    "        Name of optimizer to use\n",
    "        Valid options are \"adam\" and \"sgd\"\n",
    "        \n",
    "    Returns\n",
    "    -------\n",
    "    model: keras object \n",
    "        A complied keras model \n",
    "    \"\"\"\n",
    "\n",
    "    if opt == \"adam\":\n",
    "        opt = Adam(learning_rate=lr)\n",
    "    elif opt == 'sgd':\n",
    "        opt = SGD(learning_rate=lr)\n",
    "    elif opt == \"rmsprop\":\n",
    "        opt = RMSprop(learning_rate=lr)\n",
    "    elif opt == \"nadam\":\n",
    "        opt = Nadam(learning_rate=lr)\n",
    "    elif opt == \"adadelta\":\n",
    "        opt = Adadelta(learning_rate=lr)\n",
    "    else:\n",
    "        print (\"{} is not a valid option. Defaulting to Adam optimizer\".format(opt))\n",
    "        opt = Adam(learning_rate=lr)\n",
    "\n",
    "    # Instantiate model\n",
    "    model = Sequential()\n",
    "    \n",
    "    # 1 Hidden layer, Input layer\n",
    "    model.add(Dense(250,\n",
    "                   activation=\"sigmoid\",\n",
    "                   input_dim=784))\n",
    "    \n",
    "    # Output layer\n",
    "    model.add(Dense(n_labels,\n",
    "                   activation=\"softmax\"))\n",
    "    \n",
    "    # Compile \n",
    "    model.compile(optimizer=opt,\n",
    "                 loss=\"sparse_categorical_crossentropy\",\n",
    "                 metrics=\"accuracy\")\n",
    "    \n",
    "    return model"
   ]
  },
  {
   "cell_type": "code",
   "execution_count": 11,
   "metadata": {},
   "outputs": [],
   "source": [
    "# a check on model architecture\n",
    "model = create_model()\n",
    "n_layers = len(model.get_config()[\"layers\"])\n",
    "output_act_funct =  model.get_config()[\"layers\"][-1][\"config\"][\"activation\"]\n",
    "\n",
    "assert n_layers == 3, \"You should have an input, one hidden, and an output layer\"\n",
    "assert output_act_funct == \"softmax\", \"Output act funct should be softmax\""
   ]
  },
  {
   "cell_type": "markdown",
   "metadata": {},
   "source": [
    "------\n",
    "\n",
    "# Experiment #1: How does normalized input data affect our model's learning outcome?\n",
    "\n",
    "In this experiment we are going to answer the above question by training identifical models on a normalized data set and on a non-normalized data set. \n",
    "\n",
    "Then we will \n",
    "\n",
    "- Analyze the trained weight values of our model \n",
    "- Plot"
   ]
  },
  {
   "cell_type": "code",
   "execution_count": 12,
   "metadata": {},
   "outputs": [],
   "source": [
    "# Clear any logs from previous runs\n",
    "!rm -rf ./logs/"
   ]
  },
  {
   "cell_type": "markdown",
   "metadata": {},
   "source": [
    "### Fit Model on Non-Normalized data"
   ]
  },
  {
   "cell_type": "code",
   "execution_count": 13,
   "metadata": {
    "scrolled": true
   },
   "outputs": [
    {
     "name": "stdout",
     "output_type": "stream",
     "text": [
      "Epoch 1/10\n",
      "2344/2344 [==============================] - 4s 2ms/step - loss: 1.1003 - accuracy: 0.6555 - val_loss: 0.8518 - val_accuracy: 0.74220s - loss: 1.1229 - ac\n",
      "Epoch 2/10\n",
      "2344/2344 [==============================] - 3s 1ms/step - loss: 0.8187 - accuracy: 0.7475 - val_loss: 0.8215 - val_accuracy: 0.7493\n",
      "Epoch 3/10\n",
      "2344/2344 [==============================] - 3s 1ms/step - loss: 0.7883 - accuracy: 0.7563 - val_loss: 0.7729 - val_accuracy: 0.7638\n",
      "Epoch 4/10\n",
      "2344/2344 [==============================] - 3s 1ms/step - loss: 0.7642 - accuracy: 0.7622 - val_loss: 0.7592 - val_accuracy: 0.7703\n",
      "Epoch 5/10\n",
      "2344/2344 [==============================] - 3s 1ms/step - loss: 0.7343 - accuracy: 0.7740 - val_loss: 0.7479 - val_accuracy: 0.7733\n",
      "Epoch 6/10\n",
      "2344/2344 [==============================] - 3s 1ms/step - loss: 0.7344 - accuracy: 0.7718 - val_loss: 0.7513 - val_accuracy: 0.7683\n",
      "Epoch 7/10\n",
      "2344/2344 [==============================] - 3s 1ms/step - loss: 0.7208 - accuracy: 0.7767 - val_loss: 0.7270 - val_accuracy: 0.7785\n",
      "Epoch 8/10\n",
      "2344/2344 [==============================] - 3s 1ms/step - loss: 0.7040 - accuracy: 0.7813 - val_loss: 0.7175 - val_accuracy: 0.7810\n",
      "Epoch 9/10\n",
      "2344/2344 [==============================] - 3s 1ms/step - loss: 0.6957 - accuracy: 0.7843 - val_loss: 0.7099 - val_accuracy: 0.7819\n",
      "Epoch 10/10\n",
      "2344/2344 [==============================] - 3s 1ms/step - loss: 0.6970 - accuracy: 0.7836 - val_loss: 0.7193 - val_accuracy: 0.7806\n"
     ]
    },
    {
     "data": {
      "text/plain": [
       "<tensorflow.python.keras.callbacks.History at 0x1675da100>"
      ]
     },
     "execution_count": 13,
     "metadata": {},
     "output_type": "execute_result"
    }
   ],
   "source": [
    "# fit model on non-normalized data\n",
    "\n",
    "now = datetime.datetime.now().strftime(\"%Y%m%d-%H%M%S\")\n",
    "logdir = os.path.join(\"logs\", f\"No_Normalization-{now}\")\n",
    "tensorboard = TensorBoard(log_dir=logdir,  histogram_freq=1)\n",
    "\n",
    "model = create_model(lr=.001, opt=\"adam\")\n",
    "\n",
    "model.fit(X_train, y_train, \n",
    "          validation_data=(X_test, y_test),\n",
    "          workers=-2, \n",
    "          epochs=10, \n",
    "          batch_size=32, \n",
    "          verbose=1, \n",
    "          callbacks=[tensorboard])"
   ]
  },
  {
   "cell_type": "markdown",
   "metadata": {},
   "source": [
    "---------\n",
    "\n",
    "### Fit Model on Normalized data"
   ]
  },
  {
   "cell_type": "code",
   "execution_count": 14,
   "metadata": {
    "deletable": false,
    "nbgrader": {
     "cell_type": "code",
     "checksum": "ccc6ed9c1e2c04f77eac26d557236dad",
     "grade": false,
     "grade_id": "cell-2792e5f1fbf02c67",
     "locked": false,
     "schema_version": 3,
     "solution": true,
     "task": false
    }
   },
   "outputs": [],
   "source": [
    "# Normalize your training and test sets \n",
    "# save normalized data to X_train_scaled and X_test_scaled\n",
    "\n",
    "max_pixel_value = X_train.max()\n",
    "X_train_scaled = X_train / max_pixel_value\n",
    "X_test_scaled = X_test / max_pixel_value"
   ]
  },
  {
   "cell_type": "code",
   "execution_count": 15,
   "metadata": {
    "scrolled": true
   },
   "outputs": [
    {
     "name": "stdout",
     "output_type": "stream",
     "text": [
      "Epoch 1/10\n",
      "2344/2344 [==============================] - 4s 2ms/step - loss: 0.9573 - accuracy: 0.7137 - val_loss: 0.6244 - val_accuracy: 0.8176\n",
      "Epoch 2/10\n",
      "2344/2344 [==============================] - 3s 1ms/step - loss: 0.5716 - accuracy: 0.8309 - val_loss: 0.5344 - val_accuracy: 0.8414\n",
      "Epoch 3/10\n",
      "2344/2344 [==============================] - 3s 1ms/step - loss: 0.4746 - accuracy: 0.8599 - val_loss: 0.4860 - val_accuracy: 0.8570\n",
      "Epoch 4/10\n",
      "2344/2344 [==============================] - 3s 1ms/step - loss: 0.4094 - accuracy: 0.8776 - val_loss: 0.4768 - val_accuracy: 0.8580\n",
      "Epoch 5/10\n",
      "2344/2344 [==============================] - 3s 1ms/step - loss: 0.3655 - accuracy: 0.8918 - val_loss: 0.4602 - val_accuracy: 0.8639\n",
      "Epoch 6/10\n",
      "2344/2344 [==============================] - 4s 2ms/step - loss: 0.3313 - accuracy: 0.9023 - val_loss: 0.4562 - val_accuracy: 0.8644\n",
      "Epoch 7/10\n",
      "2344/2344 [==============================] - 3s 1ms/step - loss: 0.3007 - accuracy: 0.9123 - val_loss: 0.4442 - val_accuracy: 0.8712\n",
      "Epoch 8/10\n",
      "2344/2344 [==============================] - 3s 1ms/step - loss: 0.2665 - accuracy: 0.9219 - val_loss: 0.4345 - val_accuracy: 0.8750\n",
      "Epoch 9/10\n",
      "2344/2344 [==============================] - 3s 1ms/step - loss: 0.2450 - accuracy: 0.9295 - val_loss: 0.4408 - val_accuracy: 0.8732\n",
      "Epoch 10/10\n",
      "2344/2344 [==============================] - 3s 1ms/step - loss: 0.2190 - accuracy: 0.9379 - val_loss: 0.4421 - val_accuracy: 0.8717\n"
     ]
    },
    {
     "data": {
      "text/plain": [
       "<tensorflow.python.keras.callbacks.History at 0x169dd0730>"
      ]
     },
     "execution_count": 15,
     "metadata": {},
     "output_type": "execute_result"
    }
   ],
   "source": [
    "# train model on normalized data\n",
    "\n",
    "now = datetime.datetime.now().strftime(\"%Y%m%d-%H%M%S\")\n",
    "logdir = os.path.join(\"logs\", f\"Normalization-{now}\")\n",
    "tensorboard = TensorBoard(log_dir=logdir,  histogram_freq=1)\n",
    "\n",
    "norm_model = create_model(lr=.001, opt=\"adam\")\n",
    "\n",
    "norm_model.fit(X_train_scaled, y_train, \n",
    "          validation_data=(X_test_scaled, y_test),\n",
    "          workers=-2, \n",
    "          epochs=10, \n",
    "          batch_size=32, \n",
    "          verbose=1, \n",
    "          callbacks=[tensorboard])"
   ]
  },
  {
   "cell_type": "markdown",
   "metadata": {},
   "source": [
    "### Each layer is labeled\n",
    "\n",
    "Take note of the label for each layer in the network. It is these labels that will help you identify the corresponding bias and weight distributions on tensorboard. \n",
    "\n",
    "Assuming that you've ran `create_model` 3 times: once for the model check, once to create `model`, and once to create `norm_model`:\n",
    "\n",
    "The name of the layers for `model` should be \n",
    "- dense_2\n",
    "- dense_3\n",
    "\n",
    "The name of the layers for `norm_model` should be \n",
    "- dense_4\n",
    "- dense_5\n",
    "\n",
    "\n",
    "If you keep retraining one or both of these models, tensorflow will increment the integer used in the layer names.  But that doesn't really matter, just take notice of the layer names so you can find their corresponding bias and weight distribtuions in tensorboard.\n",
    "\n",
    "**Protip:** If you want to reset the integer incrementation that tensorflow uses, you'll need to restart your notebook's kernal. "
   ]
  },
  {
   "cell_type": "code",
   "execution_count": 19,
   "metadata": {
    "scrolled": true
   },
   "outputs": [
    {
     "name": "stdout",
     "output_type": "stream",
     "text": [
      "Model: \"sequential_1\"\n",
      "_________________________________________________________________\n",
      "Layer (type)                 Output Shape              Param #   \n",
      "=================================================================\n",
      "dense_2 (Dense)              (None, 250)               196250    \n",
      "_________________________________________________________________\n",
      "dense_3 (Dense)              (None, 10)                2510      \n",
      "=================================================================\n",
      "Total params: 198,760\n",
      "Trainable params: 198,760\n",
      "Non-trainable params: 0\n",
      "_________________________________________________________________\n"
     ]
    }
   ],
   "source": [
    "model.summary()"
   ]
  },
  {
   "cell_type": "code",
   "execution_count": 20,
   "metadata": {},
   "outputs": [
    {
     "name": "stdout",
     "output_type": "stream",
     "text": [
      "Model: \"sequential_2\"\n",
      "_________________________________________________________________\n",
      "Layer (type)                 Output Shape              Param #   \n",
      "=================================================================\n",
      "dense_4 (Dense)              (None, 250)               196250    \n",
      "_________________________________________________________________\n",
      "dense_5 (Dense)              (None, 10)                2510      \n",
      "=================================================================\n",
      "Total params: 198,760\n",
      "Trainable params: 198,760\n",
      "Non-trainable params: 0\n",
      "_________________________________________________________________\n"
     ]
    }
   ],
   "source": [
    "norm_model.summary()"
   ]
  },
  {
   "cell_type": "markdown",
   "metadata": {},
   "source": [
    "### Tensorboard \n",
    "\n",
    "- Run the cell below to launch tensorboard \n",
    "- Click on the `SCALARS` tab to see plots that compare the loss and accuracy between the two models\n",
    "- Cick on the `HISTOGRAMS` tab to see the distribution of the learned weights "
   ]
  },
  {
   "cell_type": "code",
   "execution_count": 21,
   "metadata": {},
   "outputs": [
    {
     "data": {
      "text/plain": [
       "Reusing TensorBoard on port 6007 (pid 9444), started 1:05:30 ago. (Use '!kill 9444' to kill it.)"
      ]
     },
     "metadata": {},
     "output_type": "display_data"
    },
    {
     "data": {
      "text/html": [
       "\n",
       "      <iframe id=\"tensorboard-frame-f03200164e2ea3f2\" width=\"100%\" height=\"800\" frameborder=\"0\">\n",
       "      </iframe>\n",
       "      <script>\n",
       "        (function() {\n",
       "          const frame = document.getElementById(\"tensorboard-frame-f03200164e2ea3f2\");\n",
       "          const url = new URL(\"/\", window.location);\n",
       "          const port = 6007;\n",
       "          if (port) {\n",
       "            url.port = port;\n",
       "          }\n",
       "          frame.src = url;\n",
       "        })();\n",
       "      </script>\n",
       "    "
      ],
      "text/plain": [
       "<IPython.core.display.HTML object>"
      ]
     },
     "metadata": {},
     "output_type": "display_data"
    }
   ],
   "source": [
    "%tensorboard --logdir logs"
   ]
  },
  {
   "cell_type": "markdown",
   "metadata": {},
   "source": [
    "### Tensorboard \n",
    "\n",
    "Check out the loss and accuracy plots on the `SCALARS` tab. \n",
    "\n",
    "What you should see is that the accuracy is much higher for the model that was given normalized data; conversely, the loss is much lower for the model that was given normalized data. \n",
    "\n",
    "Recall that what we are doing whenever training a model is adjusting the value of the bias and weights in each layer. For simplicity of analysis, we only trained two layers: a hidden layer and the output layer. \n",
    "\n",
    "Now click on the `HISTOGRAM` tab. \n",
    "\n",
    "You should see both of your model's layer names. \n",
    "\n",
    "### Hidden Layer Distributions\n",
    "\n",
    "Collapse the charts that correspond to the output layer so only the distributions for the weights and bias in the hidden layer are showing. (i.e. Only expand `dense_2` and `dense_4`). \n",
    "\n",
    "Also don't be confused by the word `kernel`, that's just the word that Tensorflow uses instead of weights. So, to be clear, **the kernal distributions are the weight values.** \n",
    "\n",
    "The `bias` distributions are the bias values. \n",
    "\n",
    "You should see 10 distributions stacked next to each other, **one distribution per epoch.**\n",
    "\n",
    "The distribuion in the far back corresponds to the weight values at epoch 1 (tensorflow starts the count at 0, like the index for a list). The distribution at the very front corresponds to the weight values at the 10th epoch (tensorflow indexing show 9 instead of 10).\n",
    "\n",
    "Notice how the shape of the distribution changes accross epochs? That's because their **values are being updated via Gradient Descent.** \n",
    "\n",
    "The distributions that you see are direclty responsible for the validation accuracy of our models. The reason why they look different between the two models is because one model was given normalize data and one wasn't. So you can conclude that the weight distributions in `dense_4` produce a higher validation accuracy than the weight distributions in `dense_2`. \n",
    "\n",
    "Now it's time to analyze those weight values more closely. "
   ]
  },
  {
   "cell_type": "markdown",
   "metadata": {},
   "source": [
    "----------\n",
    "### Analyze Weights in Each Layer"
   ]
  },
  {
   "cell_type": "code",
   "execution_count": 22,
   "metadata": {},
   "outputs": [],
   "source": [
    "# get the final bias and weight matrices for model\n",
    "layer = model.get_layer(name=\"dense_2\")\n",
    "bias, weights = layer.get_weights()"
   ]
  },
  {
   "cell_type": "code",
   "execution_count": 23,
   "metadata": {},
   "outputs": [],
   "source": [
    "# get the final value bias and weight magrices for norm_moel\n",
    "layer = norm_model.get_layer(name=\"dense_4\")\n",
    "bias_norm, weights_norm = layer.get_weights()"
   ]
  },
  {
   "cell_type": "code",
   "execution_count": 24,
   "metadata": {},
   "outputs": [],
   "source": [
    "# this line of code should not throw an error if the number of weights is the same for the hidden layer of both models\n",
    "# this line of code is known as a Unit Test \n",
    "assert weights.shape[0] == weights_norm.shape[0]"
   ]
  },
  {
   "cell_type": "markdown",
   "metadata": {},
   "source": [
    "### Initial Weight Values\n",
    "\n",
    "By default, Keras dense layers randomly initialize the weight values using [**GlorotUniform**](https://keras.io/api/layers/initializers/). \n",
    "\n",
    "The cell below is sampling values from the GlorotUniform distribution. Let's sample from the GlorotUniform distribution and plot it in order to get a sense of the initial distribution of our weights - before Gradient Descent starts updating their values at training time. "
   ]
  },
  {
   "cell_type": "code",
   "execution_count": 25,
   "metadata": {},
   "outputs": [],
   "source": [
    "# let's take 250 random samples form the GlorotUniform\n",
    "# because they are random samples their exact values might have been a little different for model and norm_model - but we will assume that they were not statistically different \n",
    "# 250 because that's how many weights are in the hidden layer for both of our models\n",
    "initializer = tf.keras.initializers.GlorotUniform(seed=1234)\n",
    "initial_weight_values = initializer(shape=(1, 250))"
   ]
  },
  {
   "cell_type": "code",
   "execution_count": 26,
   "metadata": {},
   "outputs": [
    {
     "data": {
      "image/png": "[encoded data removed]",
      "text/plain": [
       "<Figure size 1440x432 with 1 Axes>"
      ]
     },
     "metadata": {
      "needs_background": "light"
     },
     "output_type": "display_data"
    }
   ],
   "source": [
    "plt.figure(figsize=(20,6))\n",
    "plt.title(\"Learned Weights in Hidden Layers\")\n",
    "plt.xlabel(\"Weight Values\")\n",
    "plt.grid()\n",
    "\n",
    "# by setting density=True, we are transforming our plots into probability distributions \n",
    "plt.hist(weights, bins=20, alpha=0.5, label=\"weights from model\", density=True);\n",
    "plt.hist(weights_norm, bins=20, alpha=0.5, label=\"weights from norm_model\", density=True);\n",
    "plt.hist(initial_weight_values, bins=20, alpha=0.5, label=\"initial weight values\", density=True);\n",
    "plt.legend(fontsize=\"x-large\");"
   ]
  },
  {
   "cell_type": "markdown",
   "metadata": {},
   "source": [
    "### Observations\n",
    "\n",
    "Your plot should have 3 distributions\n",
    "\n",
    "- weights from model trained on non-normalized data\n",
    "- weights from model trained on normalized data\n",
    "- initial weight values sampled from a Glorot Uniform distributions \n",
    "\n",
    "Use the plot to answer the following questions."
   ]
  },
  {
   "cell_type": "markdown",
   "metadata": {},
   "source": [
    "**Comparing the initial weights with weights_from_model, what was the effect of not using normalized data?**"
   ]
  },
  {
   "cell_type": "markdown",
   "metadata": {
    "deletable": false,
    "nbgrader": {
     "cell_type": "markdown",
     "checksum": "500ff9c3902f635e0a9aafa64e2cc95d",
     "grade": true,
     "grade_id": "cell-4d6c92df9d105c46",
     "locked": false,
     "points": 0,
     "schema_version": 3,
     "solution": true,
     "task": false
    }
   },
   "source": [
    "The weights did not change much, but it did distribute to a wider range than the initial weight values."
   ]
  },
  {
   "cell_type": "markdown",
   "metadata": {},
   "source": [
    "**Comparing the initial weights with weights_from_norm_model, what was the effect of using normalized data?**"
   ]
  },
  {
   "cell_type": "markdown",
   "metadata": {
    "deletable": false,
    "nbgrader": {
     "cell_type": "markdown",
     "checksum": "23d7012c3d7ce759e5389a0dfee1892a",
     "grade": true,
     "grade_id": "cell-614992ba50bf54c4",
     "locked": false,
     "points": 0,
     "schema_version": 3,
     "solution": true,
     "task": false
    }
   },
   "source": [
    "Using normalized data helped distribute the weights into a wider range than the non-normalized data, certainly much more than the initial weight values. This helped increase the accuracy of the model and decrease the loss."
   ]
  },
  {
   "cell_type": "markdown",
   "metadata": {},
   "source": [
    "**Using your understanding of how Gradient Descent works, why do you think that the distributions between weights_from_model and weights_from_norm_model look so different?**"
   ]
  },
  {
   "cell_type": "markdown",
   "metadata": {
    "deletable": false,
    "nbgrader": {
     "cell_type": "markdown",
     "checksum": "52e82163ac0a8d8b47bc613199650fe2",
     "grade": true,
     "grade_id": "cell-598a597c991950f8",
     "locked": false,
     "points": 0,
     "schema_version": 3,
     "solution": true,
     "task": false
    }
   },
   "source": [
    "When the model takes in normalized data, the model is able to more efficiently learn the optimal parameters for each input node and minimize loss through gradient descent. That's because the data is within a much smaller range of values than a model that takes non-normalized data for training. It's easier for the model to work with normalized data because the larger variance of non-normalized data is no efficient or consistent."
   ]
  },
  {
   "cell_type": "markdown",
   "metadata": {},
   "source": [
    "----\n",
    "\n",
    "# Additional Experiments\n",
    "\n",
    "The previous experiment demonstrated the importance of normalizing our data in order to maximize model accuracy. In the next few experiments, we are going to explore the effect that certain values for Batch Size, Learning Rate, and different Optimizers have on model accuracy. \n",
    "\n",
    "Using our **create_model** model building function, conduct the following experiments. "
   ]
  },
  {
   "cell_type": "markdown",
   "metadata": {
    "colab_type": "text",
    "id": "f0pCkh8C7eGL"
   },
   "source": [
    "### Experiment with Batch Size\n",
    "* Run 5 experiments with various batch sizes of your choice. \n",
    "* Visualize the results\n",
    "* Write up an analysis of the experiments and select the \"best\" performing model among your experiments. Make sure to compare against your model's performance yesterday. "
   ]
  },
  {
   "cell_type": "code",
   "execution_count": 27,
   "metadata": {
    "colab": {},
    "colab_type": "code",
    "id": "USXjs7Hk71Hy",
    "scrolled": true
   },
   "outputs": [
    {
     "name": "stdout",
     "output_type": "stream",
     "text": [
      "Epoch 1/10\n",
      "15000/15000 [==============================] - 16s 1ms/step - loss: 0.8143 - accuracy: 0.7512 - val_loss: 0.5308 - val_accuracy: 0.8432\n",
      "Epoch 2/10\n",
      "15000/15000 [==============================] - 16s 1ms/step - loss: 0.4722 - accuracy: 0.8566 - val_loss: 0.4939 - val_accuracy: 0.8554\n",
      "Epoch 3/10\n",
      "15000/15000 [==============================] - 16s 1ms/step - loss: 0.3846 - accuracy: 0.8830 - val_loss: 0.4635 - val_accuracy: 0.8646\n",
      "Epoch 4/10\n",
      "15000/15000 [==============================] - 15s 1ms/step - loss: 0.3275 - accuracy: 0.9011 - val_loss: 0.4543 - val_accuracy: 0.8702\n",
      "Epoch 5/10\n",
      "15000/15000 [==============================] - 15s 1ms/step - loss: 0.2828 - accuracy: 0.9152 - val_loss: 0.4593 - val_accuracy: 0.8704\n",
      "Epoch 6/10\n",
      "15000/15000 [==============================] - 16s 1ms/step - loss: 0.2403 - accuracy: 0.9271 - val_loss: 0.4732 - val_accuracy: 0.8700\n",
      "Epoch 7/10\n",
      "15000/15000 [==============================] - 17s 1ms/step - loss: 0.2139 - accuracy: 0.9350 - val_loss: 0.4994 - val_accuracy: 0.8652\n",
      "Epoch 8/10\n",
      "15000/15000 [==============================] - 16s 1ms/step - loss: 0.1827 - accuracy: 0.9465 - val_loss: 0.5213 - val_accuracy: 0.8669\n",
      "Epoch 9/10\n",
      "15000/15000 [==============================] - 15s 980us/step - loss: 0.1575 - accuracy: 0.9529 - val_loss: 0.5330 - val_accuracy: 0.8675\n",
      "Epoch 10/10\n",
      "15000/15000 [==============================] - 15s 971us/step - loss: 0.1356 - accuracy: 0.9596 - val_loss: 0.5804 - val_accuracy: 0.8580\n"
     ]
    }
   ],
   "source": [
    "model_batch = create_model(lr=.001, opt=\"adam\")\n",
    "\n",
    "smallest = model_batch.fit(X_train_scaled,\n",
    "                y_train, \n",
    "                validation_data=(X_test_scaled, y_test),\n",
    "                workers=-2, \n",
    "                epochs=10, \n",
    "                batch_size=5, \n",
    "                verbose=1, \n",
    "                callbacks=[tensorboard])"
   ]
  },
  {
   "cell_type": "code",
   "execution_count": 28,
   "metadata": {
    "scrolled": true
   },
   "outputs": [
    {
     "name": "stdout",
     "output_type": "stream",
     "text": [
      "Epoch 1/10\n",
      "7500/7500 [==============================] - 8s 1ms/step - loss: 0.8556 - accuracy: 0.7405 - val_loss: 0.5611 - val_accuracy: 0.8322\n",
      "Epoch 2/10\n",
      "7500/7500 [==============================] - 8s 1ms/step - loss: 0.4957 - accuracy: 0.8501 - val_loss: 0.4868 - val_accuracy: 0.8559\n",
      "Epoch 3/10\n",
      "7500/7500 [==============================] - 9s 1ms/step - loss: 0.4061 - accuracy: 0.8791 - val_loss: 0.4714 - val_accuracy: 0.8626\n",
      "Epoch 4/10\n",
      "7500/7500 [==============================] - 8s 1ms/step - loss: 0.3502 - accuracy: 0.8956 - val_loss: 0.4611 - val_accuracy: 0.8650\n",
      "Epoch 5/10\n",
      "7500/7500 [==============================] - 8s 1ms/step - loss: 0.2992 - accuracy: 0.9103 - val_loss: 0.4502 - val_accuracy: 0.8716\n",
      "Epoch 6/10\n",
      "7500/7500 [==============================] - 8s 1ms/step - loss: 0.2623 - accuracy: 0.9221 - val_loss: 0.4634 - val_accuracy: 0.8698\n",
      "Epoch 7/10\n",
      "7500/7500 [==============================] - 8s 1ms/step - loss: 0.2361 - accuracy: 0.9300 - val_loss: 0.4721 - val_accuracy: 0.8695\n",
      "Epoch 8/10\n",
      "7500/7500 [==============================] - 8s 1ms/step - loss: 0.2012 - accuracy: 0.9407 - val_loss: 0.4875 - val_accuracy: 0.8678\n",
      "Epoch 9/10\n",
      "7500/7500 [==============================] - 8s 1ms/step - loss: 0.1750 - accuracy: 0.9492 - val_loss: 0.5123 - val_accuracy: 0.8638\n",
      "Epoch 10/10\n",
      "7500/7500 [==============================] - 8s 1ms/step - loss: 0.1561 - accuracy: 0.9562 - val_loss: 0.5256 - val_accuracy: 0.8644\n"
     ]
    }
   ],
   "source": [
    "model_batch = create_model(lr=.001, opt=\"adam\")\n",
    "\n",
    "small = model_batch.fit(X_train_scaled,\n",
    "                y_train, \n",
    "                validation_data=(X_test_scaled, y_test),\n",
    "                workers=-2, \n",
    "                epochs=10, \n",
    "                batch_size=10, \n",
    "                verbose=1, \n",
    "                callbacks=[tensorboard])"
   ]
  },
  {
   "cell_type": "code",
   "execution_count": 29,
   "metadata": {
    "scrolled": true
   },
   "outputs": [
    {
     "name": "stdout",
     "output_type": "stream",
     "text": [
      "Epoch 1/10\n",
      "2344/2344 [==============================] - 4s 1ms/step - loss: 0.9452 - accuracy: 0.7176 - val_loss: 0.6303 - val_accuracy: 0.8162\n",
      "Epoch 2/10\n",
      "2344/2344 [==============================] - 3s 1ms/step - loss: 0.5732 - accuracy: 0.8309 - val_loss: 0.5348 - val_accuracy: 0.8406\n",
      "Epoch 3/10\n",
      "2344/2344 [==============================] - 3s 1ms/step - loss: 0.4700 - accuracy: 0.8607 - val_loss: 0.4796 - val_accuracy: 0.8603\n",
      "Epoch 4/10\n",
      "2344/2344 [==============================] - 3s 1ms/step - loss: 0.4144 - accuracy: 0.8777 - val_loss: 0.4603 - val_accuracy: 0.8650\n",
      "Epoch 5/10\n",
      "2344/2344 [==============================] - 3s 1ms/step - loss: 0.3686 - accuracy: 0.8904 - val_loss: 0.4471 - val_accuracy: 0.8690\n",
      "Epoch 6/10\n",
      "2344/2344 [==============================] - 3s 1ms/step - loss: 0.3376 - accuracy: 0.9017 - val_loss: 0.4443 - val_accuracy: 0.8701\n",
      "Epoch 7/10\n",
      "2344/2344 [==============================] - 3s 1ms/step - loss: 0.3028 - accuracy: 0.9114 - val_loss: 0.4422 - val_accuracy: 0.8708\n",
      "Epoch 8/10\n",
      "2344/2344 [==============================] - 3s 1ms/step - loss: 0.2691 - accuracy: 0.9225 - val_loss: 0.4342 - val_accuracy: 0.8743\n",
      "Epoch 9/10\n",
      "2344/2344 [==============================] - 3s 1ms/step - loss: 0.2492 - accuracy: 0.9274 - val_loss: 0.4367 - val_accuracy: 0.8745\n",
      "Epoch 10/10\n",
      "2344/2344 [==============================] - 3s 1ms/step - loss: 0.2276 - accuracy: 0.9343 - val_loss: 0.4368 - val_accuracy: 0.8743\n"
     ]
    }
   ],
   "source": [
    "model_batch = create_model(lr=.001, opt=\"adam\")\n",
    "\n",
    "default = model_batch.fit(X_train_scaled,\n",
    "                y_train, \n",
    "                validation_data=(X_test_scaled, y_test),\n",
    "                workers=-2, \n",
    "                epochs=10, \n",
    "                batch_size=32, \n",
    "                verbose=1, \n",
    "                callbacks=[tensorboard])"
   ]
  },
  {
   "cell_type": "code",
   "execution_count": 30,
   "metadata": {
    "scrolled": true
   },
   "outputs": [
    {
     "name": "stdout",
     "output_type": "stream",
     "text": [
      "Epoch 1/10\n",
      "1172/1172 [==============================] - 2s 2ms/step - loss: 1.0131 - accuracy: 0.7002 - val_loss: 0.6795 - val_accuracy: 0.8044\n",
      "Epoch 2/10\n",
      "1172/1172 [==============================] - 2s 2ms/step - loss: 0.6290 - accuracy: 0.8153 - val_loss: 0.5763 - val_accuracy: 0.8284\n",
      "Epoch 3/10\n",
      "1172/1172 [==============================] - 2s 2ms/step - loss: 0.5232 - accuracy: 0.8463 - val_loss: 0.5319 - val_accuracy: 0.8431\n",
      "Epoch 4/10\n",
      "1172/1172 [==============================] - 2s 2ms/step - loss: 0.4645 - accuracy: 0.8630 - val_loss: 0.4918 - val_accuracy: 0.8536\n",
      "Epoch 5/10\n",
      "1172/1172 [==============================] - 2s 2ms/step - loss: 0.4185 - accuracy: 0.8753 - val_loss: 0.4732 - val_accuracy: 0.8610\n",
      "Epoch 6/10\n",
      "1172/1172 [==============================] - 2s 2ms/step - loss: 0.3802 - accuracy: 0.8876 - val_loss: 0.4583 - val_accuracy: 0.8649\n",
      "Epoch 7/10\n",
      "1172/1172 [==============================] - 2s 2ms/step - loss: 0.3526 - accuracy: 0.8978 - val_loss: 0.4473 - val_accuracy: 0.8678\n",
      "Epoch 8/10\n",
      "1172/1172 [==============================] - 2s 2ms/step - loss: 0.3239 - accuracy: 0.9045 - val_loss: 0.4408 - val_accuracy: 0.8702\n",
      "Epoch 9/10\n",
      "1172/1172 [==============================] - 2s 2ms/step - loss: 0.3014 - accuracy: 0.9137 - val_loss: 0.4421 - val_accuracy: 0.8705\n",
      "Epoch 10/10\n",
      "1172/1172 [==============================] - 2s 2ms/step - loss: 0.2831 - accuracy: 0.9184 - val_loss: 0.4322 - val_accuracy: 0.8749\n"
     ]
    }
   ],
   "source": [
    "model_batch = create_model(lr=.001, opt=\"adam\")\n",
    "\n",
    "big = model_batch.fit(X_train_scaled,\n",
    "                y_train, \n",
    "                validation_data=(X_test_scaled, y_test),\n",
    "                workers=-2, \n",
    "                epochs=10, \n",
    "                batch_size=64, \n",
    "                verbose=1, \n",
    "                callbacks=[tensorboard])"
   ]
  },
  {
   "cell_type": "code",
   "execution_count": 31,
   "metadata": {
    "scrolled": true
   },
   "outputs": [
    {
     "name": "stdout",
     "output_type": "stream",
     "text": [
      "Epoch 1/10\n",
      "293/293 [==============================] - 1s 3ms/step - loss: 1.2513 - accuracy: 0.6301 - val_loss: 0.8000 - val_accuracy: 0.7688\n",
      "Epoch 2/10\n",
      "293/293 [==============================] - 1s 3ms/step - loss: 0.7624 - accuracy: 0.7784 - val_loss: 0.7117 - val_accuracy: 0.7954\n",
      "Epoch 3/10\n",
      "293/293 [==============================] - 1s 3ms/step - loss: 0.6716 - accuracy: 0.8030 - val_loss: 0.6409 - val_accuracy: 0.8141\n",
      "Epoch 4/10\n",
      "293/293 [==============================] - 1s 3ms/step - loss: 0.5950 - accuracy: 0.8270 - val_loss: 0.5940 - val_accuracy: 0.8260\n",
      "Epoch 5/10\n",
      "293/293 [==============================] - 1s 3ms/step - loss: 0.5491 - accuracy: 0.8403 - val_loss: 0.5637 - val_accuracy: 0.8358\n",
      "Epoch 6/10\n",
      "293/293 [==============================] - 1s 3ms/step - loss: 0.5029 - accuracy: 0.8531 - val_loss: 0.5337 - val_accuracy: 0.8431\n",
      "Epoch 7/10\n",
      "293/293 [==============================] - 1s 3ms/step - loss: 0.4812 - accuracy: 0.8580 - val_loss: 0.5107 - val_accuracy: 0.8499\n",
      "Epoch 8/10\n",
      "293/293 [==============================] - 1s 3ms/step - loss: 0.4407 - accuracy: 0.8709 - val_loss: 0.4994 - val_accuracy: 0.8542\n",
      "Epoch 9/10\n",
      "293/293 [==============================] - 1s 3ms/step - loss: 0.4207 - accuracy: 0.8754 - val_loss: 0.4820 - val_accuracy: 0.8586\n",
      "Epoch 10/10\n",
      "293/293 [==============================] - 1s 3ms/step - loss: 0.4043 - accuracy: 0.8818 - val_loss: 0.4721 - val_accuracy: 0.8628\n"
     ]
    }
   ],
   "source": [
    "model_batch = create_model(lr=.001, opt=\"adam\")\n",
    "\n",
    "biggest = model_batch.fit(X_train_scaled,\n",
    "                y_train, \n",
    "                validation_data=(X_test_scaled, y_test),\n",
    "                workers=-2, \n",
    "                epochs=10, \n",
    "                batch_size=256, \n",
    "                verbose=1, \n",
    "                callbacks=[tensorboard])"
   ]
  },
  {
   "cell_type": "code",
   "execution_count": 34,
   "metadata": {},
   "outputs": [
    {
     "ename": "AttributeError",
     "evalue": "'dict' object has no attribute 'summary'",
     "output_type": "error",
     "traceback": [
      "\u001b[0;31m---------------------------------------------------------------------------\u001b[0m",
      "\u001b[0;31mAttributeError\u001b[0m                            Traceback (most recent call last)",
      "\u001b[0;32m<ipython-input-34-e2f2327a1219>\u001b[0m in \u001b[0;36m<module>\u001b[0;34m\u001b[0m\n\u001b[0;32m----> 1\u001b[0;31m \u001b[0mbiggest\u001b[0m\u001b[0;34m.\u001b[0m\u001b[0mhistory\u001b[0m\u001b[0;34m.\u001b[0m\u001b[0msummary\u001b[0m\u001b[0;34m(\u001b[0m\u001b[0;34m)\u001b[0m\u001b[0;34m\u001b[0m\u001b[0;34m\u001b[0m\u001b[0m\n\u001b[0m",
      "\u001b[0;31mAttributeError\u001b[0m: 'dict' object has no attribute 'summary'"
     ]
    }
   ],
   "source": [
    "biggest.history.summary()"
   ]
  },
  {
   "cell_type": "code",
   "execution_count": 32,
   "metadata": {},
   "outputs": [
    {
     "data": {
      "text/plain": [
       "Reusing TensorBoard on port 6007 (pid 9444), started 1:10:50 ago. (Use '!kill 9444' to kill it.)"
      ]
     },
     "metadata": {},
     "output_type": "display_data"
    },
    {
     "data": {
      "text/html": [
       "\n",
       "      <iframe id=\"tensorboard-frame-aae9d46cd0c0cadd\" width=\"100%\" height=\"800\" frameborder=\"0\">\n",
       "      </iframe>\n",
       "      <script>\n",
       "        (function() {\n",
       "          const frame = document.getElementById(\"tensorboard-frame-aae9d46cd0c0cadd\");\n",
       "          const url = new URL(\"/\", window.location);\n",
       "          const port = 6007;\n",
       "          if (port) {\n",
       "            url.port = port;\n",
       "          }\n",
       "          frame.src = url;\n",
       "        })();\n",
       "      </script>\n",
       "    "
      ],
      "text/plain": [
       "<IPython.core.display.HTML object>"
      ]
     },
     "metadata": {},
     "output_type": "display_data"
    }
   ],
   "source": [
    "%tensorboard --logdir logs"
   ]
  },
  {
   "cell_type": "code",
   "execution_count": 33,
   "metadata": {},
   "outputs": [
    {
     "data": {
      "text/html": [
       "<div>\n",
       "<style scoped>\n",
       "    .dataframe tbody tr th:only-of-type {\n",
       "        vertical-align: middle;\n",
       "    }\n",
       "\n",
       "    .dataframe tbody tr th {\n",
       "        vertical-align: top;\n",
       "    }\n",
       "\n",
       "    .dataframe thead th {\n",
       "        text-align: right;\n",
       "    }\n",
       "</style>\n",
       "<table border=\"1\" class=\"dataframe\">\n",
       "  <thead>\n",
       "    <tr style=\"text-align: right;\">\n",
       "      <th></th>\n",
       "      <th>loss</th>\n",
       "      <th>accuracy</th>\n",
       "      <th>val_loss</th>\n",
       "      <th>val_accuracy</th>\n",
       "      <th>epoch</th>\n",
       "      <th>Batch Size</th>\n",
       "    </tr>\n",
       "  </thead>\n",
       "  <tbody>\n",
       "    <tr>\n",
       "      <th>0</th>\n",
       "      <td>0.663872</td>\n",
       "      <td>0.798587</td>\n",
       "      <td>0.525787</td>\n",
       "      <td>0.84472</td>\n",
       "      <td>0</td>\n",
       "      <td>5_</td>\n",
       "    </tr>\n",
       "    <tr>\n",
       "      <th>1</th>\n",
       "      <td>0.462311</td>\n",
       "      <td>0.861440</td>\n",
       "      <td>0.470708</td>\n",
       "      <td>0.85860</td>\n",
       "      <td>1</td>\n",
       "      <td>5_</td>\n",
       "    </tr>\n",
       "    <tr>\n",
       "      <th>2</th>\n",
       "      <td>0.388520</td>\n",
       "      <td>0.883093</td>\n",
       "      <td>0.468244</td>\n",
       "      <td>0.86316</td>\n",
       "      <td>2</td>\n",
       "      <td>5_</td>\n",
       "    </tr>\n",
       "    <tr>\n",
       "      <th>3</th>\n",
       "      <td>0.334823</td>\n",
       "      <td>0.899307</td>\n",
       "      <td>0.450477</td>\n",
       "      <td>0.87080</td>\n",
       "      <td>3</td>\n",
       "      <td>5_</td>\n",
       "    </tr>\n",
       "    <tr>\n",
       "      <th>4</th>\n",
       "      <td>0.291048</td>\n",
       "      <td>0.912640</td>\n",
       "      <td>0.453761</td>\n",
       "      <td>0.87064</td>\n",
       "      <td>4</td>\n",
       "      <td>5_</td>\n",
       "    </tr>\n",
       "  </tbody>\n",
       "</table>\n",
       "</div>"
      ],
      "text/plain": [
       "       loss  accuracy  val_loss  val_accuracy  epoch Batch Size\n",
       "0  0.663872  0.798587  0.525787       0.84472      0         5_\n",
       "1  0.462311  0.861440  0.470708       0.85860      1         5_\n",
       "2  0.388520  0.883093  0.468244       0.86316      2         5_\n",
       "3  0.334823  0.899307  0.450477       0.87080      3         5_\n",
       "4  0.291048  0.912640  0.453761       0.87064      4         5_"
      ]
     },
     "execution_count": 33,
     "metadata": {},
     "output_type": "execute_result"
    }
   ],
   "source": [
    "import seaborn as sns\n",
    "\n",
    "batch_sizes = []\n",
    "\n",
    "for exp, result in zip([smallest, small, default, big, biggest], [\"5_\", \"10_\", \"32_\", \"64_\", \"256_\"]):\n",
    "\n",
    "    df = pd.DataFrame.from_dict(exp.history)\n",
    "    df['epoch'] = df.index.values\n",
    "    df['Batch Size'] = result\n",
    "\n",
    "    batch_sizes.append(df)\n",
    "\n",
    "df = pd.concat(batch_sizes)\n",
    "df['Batch Size'] = df['Batch Size'].astype('str')\n",
    "df.head()"
   ]
  },
  {
   "cell_type": "code",
   "execution_count": 34,
   "metadata": {},
   "outputs": [
    {
     "data": {
      "image/png": "[encoded data removed]",
      "text/plain": [
       "<Figure size 1152x432 with 1 Axes>"
      ]
     },
     "metadata": {
      "needs_background": "light"
     },
     "output_type": "display_data"
    }
   ],
   "source": [
    "plt.figure(figsize=(16,6))\n",
    "plt.grid()\n",
    "sns.lineplot(x='epoch', y='val_accuracy', hue='Batch Size', data=df);"
   ]
  },
  {
   "cell_type": "markdown",
   "metadata": {},
   "source": [
    "# Batch Size Analysis"
   ]
  },
  {
   "cell_type": "markdown",
   "metadata": {},
   "source": [
    "Of the various batch sizes that I ran in these five experiments, the default value of batch size = 32 performed the best on the validation data. Here is a ranking of the performances of each batch size on the validation data.\n",
    "\n",
    "1.) Batch size = 32\n",
    "2.) 64\n",
    "3.) 5\n",
    "4.) 10\n",
    "5.) 256\n",
    "\n",
    "We should observe that smaller batch sizes perform better (theoretically) because smaller batch sizes means the model must update the parameter weights more often in each epoch. This was not the case, seeing that batch size = 64 performed better on validation data than batch size = 5, 10. \n",
    "\n",
    "It's also important to note that the validation accuracy of all 5 batch sizes were similar towards the 10th epoch and that a lot of overlapping occurred. So it would be interesting to see further how number of epochs would affect these validation accuracy score by batch size.\n",
    "\n",
    "The Adam optimizer model from yesterday performed better on the validation set (0.8814) than this model (0.8778), but this model did not overfit the training data like the Adam optimizer model from yesterday. It's also important to mention that yesterday's Adam model ran 20 epochs rather than today's model's 10 epochs."
   ]
  },
  {
   "cell_type": "markdown",
   "metadata": {
    "colab_type": "text",
    "id": "8b-r70o8p2Dm"
   },
   "source": [
    "### Experiment with Learning Rate\n",
    "* Run 5 experiments with various learning rate magnitudes: 1, .1, .01, .001, .0001.\n",
    "* Use the \"best\" batch size from the previous experiment\n",
    "* Visualize the results\n",
    "* Write up an analysis of the experiments and select the \"best\" performing model among your experiments. Make sure to compare against the previous experiments and your model's performance yesterday. "
   ]
  },
  {
   "cell_type": "code",
   "execution_count": 35,
   "metadata": {
    "colab": {},
    "colab_type": "code",
    "id": "_SA144xx8Luf",
    "scrolled": true
   },
   "outputs": [
    {
     "name": "stdout",
     "output_type": "stream",
     "text": [
      "Epoch 1/10\n",
      "2344/2344 [==============================] - 3s 1ms/step - loss: 1.4449 - accuracy: 0.6014 - val_loss: 0.8976 - val_accuracy: 0.7436\n",
      "Epoch 2/10\n",
      "2344/2344 [==============================] - 3s 1ms/step - loss: 0.8555 - accuracy: 0.7546 - val_loss: 0.8110 - val_accuracy: 0.7666\n",
      "Epoch 3/10\n",
      "2344/2344 [==============================] - 3s 1ms/step - loss: 0.7866 - accuracy: 0.7743 - val_loss: 0.7649 - val_accuracy: 0.7788\n",
      "Epoch 4/10\n",
      "2344/2344 [==============================] - 3s 1ms/step - loss: 0.7445 - accuracy: 0.7844 - val_loss: 0.7258 - val_accuracy: 0.7895\n",
      "Epoch 5/10\n",
      "2344/2344 [==============================] - 3s 1ms/step - loss: 0.6971 - accuracy: 0.7974 - val_loss: 0.6958 - val_accuracy: 0.7993\n",
      "Epoch 6/10\n",
      "2344/2344 [==============================] - 3s 1ms/step - loss: 0.6731 - accuracy: 0.8060 - val_loss: 0.6686 - val_accuracy: 0.8069\n",
      "Epoch 7/10\n",
      "2344/2344 [==============================] - 3s 1ms/step - loss: 0.6406 - accuracy: 0.8129 - val_loss: 0.6459 - val_accuracy: 0.8119\n",
      "Epoch 8/10\n",
      "2344/2344 [==============================] - 3s 1ms/step - loss: 0.6137 - accuracy: 0.8227 - val_loss: 0.6255 - val_accuracy: 0.8184\n",
      "Epoch 9/10\n",
      "2344/2344 [==============================] - 3s 1ms/step - loss: 0.5933 - accuracy: 0.8270 - val_loss: 0.6069 - val_accuracy: 0.8233\n",
      "Epoch 10/10\n",
      "2344/2344 [==============================] - 3s 1ms/step - loss: 0.5730 - accuracy: 0.8324 - val_loss: 0.5914 - val_accuracy: 0.8270\n"
     ]
    }
   ],
   "source": [
    "model_lr = create_model(lr=.0001, opt=\"adam\")\n",
    "\n",
    "model_0001 = model_lr.fit(X_train_scaled,\n",
    "                y_train, \n",
    "                validation_data=(X_test_scaled, y_test),\n",
    "                workers=-2, \n",
    "                epochs=10, \n",
    "                batch_size=32, \n",
    "                verbose=1, \n",
    "                callbacks=[tensorboard])"
   ]
  },
  {
   "cell_type": "code",
   "execution_count": 36,
   "metadata": {
    "scrolled": true
   },
   "outputs": [
    {
     "name": "stdout",
     "output_type": "stream",
     "text": [
      "Epoch 1/10\n",
      "2344/2344 [==============================] - 3s 1ms/step - loss: 0.9459 - accuracy: 0.7195 - val_loss: 0.6194 - val_accuracy: 0.8198\n",
      "Epoch 2/10\n",
      "2344/2344 [==============================] - 3s 1ms/step - loss: 0.5793 - accuracy: 0.8290 - val_loss: 0.5231 - val_accuracy: 0.8472\n",
      "Epoch 3/10\n",
      "2344/2344 [==============================] - 3s 1ms/step - loss: 0.4736 - accuracy: 0.8604 - val_loss: 0.4844 - val_accuracy: 0.8547\n",
      "Epoch 4/10\n",
      "2344/2344 [==============================] - 3s 1ms/step - loss: 0.4175 - accuracy: 0.8774 - val_loss: 0.4613 - val_accuracy: 0.8658\n",
      "Epoch 5/10\n",
      "2344/2344 [==============================] - 3s 1ms/step - loss: 0.3676 - accuracy: 0.8927 - val_loss: 0.4412 - val_accuracy: 0.8705\n",
      "Epoch 6/10\n",
      "2344/2344 [==============================] - 3s 1ms/step - loss: 0.3388 - accuracy: 0.9006 - val_loss: 0.4381 - val_accuracy: 0.8718\n",
      "Epoch 7/10\n",
      "2344/2344 [==============================] - 3s 1ms/step - loss: 0.3020 - accuracy: 0.9118 - val_loss: 0.4482 - val_accuracy: 0.8694\n",
      "Epoch 8/10\n",
      "2344/2344 [==============================] - 3s 1ms/step - loss: 0.2695 - accuracy: 0.9211 - val_loss: 0.4423 - val_accuracy: 0.8712\n",
      "Epoch 9/10\n",
      "2344/2344 [==============================] - 3s 1ms/step - loss: 0.2496 - accuracy: 0.9278 - val_loss: 0.4374 - val_accuracy: 0.8735\n",
      "Epoch 10/10\n",
      "2344/2344 [==============================] - 3s 1ms/step - loss: 0.2244 - accuracy: 0.9352 - val_loss: 0.4440 - val_accuracy: 0.8712\n"
     ]
    }
   ],
   "source": [
    "model_lr = create_model(lr=.001, opt=\"adam\")\n",
    "\n",
    "model_001 = model_lr.fit(X_train_scaled,\n",
    "                y_train, \n",
    "                validation_data=(X_test_scaled, y_test),\n",
    "                workers=-2, \n",
    "                epochs=10, \n",
    "                batch_size=32, \n",
    "                verbose=1, \n",
    "                callbacks=[tensorboard])"
   ]
  },
  {
   "cell_type": "code",
   "execution_count": 46,
   "metadata": {
    "scrolled": true
   },
   "outputs": [
    {
     "name": "stdout",
     "output_type": "stream",
     "text": [
      "Epoch 1/10\n",
      "2344/2344 [==============================] - 3s 1ms/step - loss: 0.7727 - accuracy: 0.7602 - val_loss: 0.5669 - val_accuracy: 0.8320\n",
      "Epoch 2/10\n",
      "2344/2344 [==============================] - 3s 1ms/step - loss: 0.5344 - accuracy: 0.8378 - val_loss: 0.5473 - val_accuracy: 0.8363\n",
      "Epoch 3/10\n",
      "2344/2344 [==============================] - 3s 1ms/step - loss: 0.4923 - accuracy: 0.8498 - val_loss: 0.5691 - val_accuracy: 0.8341\n",
      "Epoch 4/10\n",
      "2344/2344 [==============================] - 3s 1ms/step - loss: 0.4639 - accuracy: 0.8598 - val_loss: 0.5374 - val_accuracy: 0.8420\n",
      "Epoch 5/10\n",
      "2344/2344 [==============================] - 3s 1ms/step - loss: 0.4379 - accuracy: 0.8652 - val_loss: 0.5732 - val_accuracy: 0.8354\n",
      "Epoch 6/10\n",
      "2344/2344 [==============================] - 3s 1ms/step - loss: 0.4346 - accuracy: 0.8688 - val_loss: 0.5490 - val_accuracy: 0.8428\n",
      "Epoch 7/10\n",
      "2344/2344 [==============================] - 3s 1ms/step - loss: 0.4076 - accuracy: 0.8742 - val_loss: 0.5698 - val_accuracy: 0.8422\n",
      "Epoch 8/10\n",
      "2344/2344 [==============================] - 3s 1ms/step - loss: 0.3916 - accuracy: 0.8791 - val_loss: 0.5456 - val_accuracy: 0.8465\n",
      "Epoch 9/10\n",
      "2344/2344 [==============================] - 3s 1ms/step - loss: 0.3773 - accuracy: 0.8839 - val_loss: 0.5577 - val_accuracy: 0.8462\n",
      "Epoch 10/10\n",
      "2344/2344 [==============================] - 3s 1ms/step - loss: 0.3693 - accuracy: 0.8856 - val_loss: 0.5482 - val_accuracy: 0.8494\n"
     ]
    }
   ],
   "source": [
    "model_lr = create_model(lr=.01, opt=\"adam\")\n",
    "\n",
    "model_01 = model_lr.fit(X_train_scaled,\n",
    "                y_train, \n",
    "                validation_data=(X_test_scaled, y_test),\n",
    "                workers=-2, \n",
    "                epochs=10, \n",
    "                batch_size=32, \n",
    "                verbose=1, \n",
    "                callbacks=[tensorboard])"
   ]
  },
  {
   "cell_type": "code",
   "execution_count": 38,
   "metadata": {
    "scrolled": true
   },
   "outputs": [
    {
     "name": "stdout",
     "output_type": "stream",
     "text": [
      "Epoch 1/10\n",
      "2344/2344 [==============================] - 3s 1ms/step - loss: 1.2936 - accuracy: 0.6045 - val_loss: 1.0794 - val_accuracy: 0.6776\n",
      "Epoch 2/10\n",
      "2344/2344 [==============================] - 3s 1ms/step - loss: 1.0212 - accuracy: 0.6871 - val_loss: 0.9841 - val_accuracy: 0.7013\n",
      "Epoch 3/10\n",
      "2344/2344 [==============================] - 3s 1ms/step - loss: 1.0075 - accuracy: 0.6946 - val_loss: 1.0983 - val_accuracy: 0.6668\n",
      "Epoch 4/10\n",
      "2344/2344 [==============================] - 3s 1ms/step - loss: 0.9725 - accuracy: 0.7060 - val_loss: 0.9817 - val_accuracy: 0.7058\n",
      "Epoch 5/10\n",
      "2344/2344 [==============================] - 3s 1ms/step - loss: 0.9271 - accuracy: 0.7210 - val_loss: 0.9704 - val_accuracy: 0.7101\n",
      "Epoch 6/10\n",
      "2344/2344 [==============================] - 3s 1ms/step - loss: 0.9297 - accuracy: 0.7203 - val_loss: 0.9246 - val_accuracy: 0.7258\n",
      "Epoch 7/10\n",
      "2344/2344 [==============================] - 3s 1ms/step - loss: 0.9197 - accuracy: 0.7182 - val_loss: 1.0094 - val_accuracy: 0.7050\n",
      "Epoch 8/10\n",
      "2344/2344 [==============================] - 3s 1ms/step - loss: 0.8827 - accuracy: 0.7389 - val_loss: 0.9342 - val_accuracy: 0.7234\n",
      "Epoch 9/10\n",
      "2344/2344 [==============================] - 3s 1ms/step - loss: 0.9089 - accuracy: 0.7291 - val_loss: 0.9991 - val_accuracy: 0.7063\n",
      "Epoch 10/10\n",
      "2344/2344 [==============================] - 3s 1ms/step - loss: 0.8927 - accuracy: 0.7333 - val_loss: 0.8713 - val_accuracy: 0.7526\n"
     ]
    }
   ],
   "source": [
    "model_lr = create_model(lr=.1, opt=\"adam\")\n",
    "\n",
    "model_1 = model_lr.fit(X_train_scaled,\n",
    "                y_train, \n",
    "                validation_data=(X_test_scaled, y_test),\n",
    "                workers=-2, \n",
    "                epochs=10, \n",
    "                batch_size=32, \n",
    "                verbose=1, \n",
    "                callbacks=[tensorboard])"
   ]
  },
  {
   "cell_type": "code",
   "execution_count": 39,
   "metadata": {
    "scrolled": true
   },
   "outputs": [
    {
     "name": "stdout",
     "output_type": "stream",
     "text": [
      "Epoch 1/10\n",
      "2344/2344 [==============================] - 4s 1ms/step - loss: 13.6644 - accuracy: 0.3842 - val_loss: 14.6784 - val_accuracy: 0.3518\n",
      "Epoch 2/10\n",
      "2344/2344 [==============================] - 3s 1ms/step - loss: 11.5031 - accuracy: 0.4138 - val_loss: 21.5466 - val_accuracy: 0.3235\n",
      "Epoch 3/10\n",
      "2344/2344 [==============================] - 3s 1ms/step - loss: 11.4052 - accuracy: 0.4269 - val_loss: 12.8451 - val_accuracy: 0.4674\n",
      "Epoch 4/10\n",
      "2344/2344 [==============================] - 3s 1ms/step - loss: 10.6123 - accuracy: 0.4422 - val_loss: 8.3124 - val_accuracy: 0.4276\n",
      "Epoch 5/10\n",
      "2344/2344 [==============================] - 3s 1ms/step - loss: 9.8359 - accuracy: 0.4781 - val_loss: 8.5441 - val_accuracy: 0.5210\n",
      "Epoch 6/10\n",
      "2344/2344 [==============================] - 3s 1ms/step - loss: 9.9675 - accuracy: 0.4885 - val_loss: 9.2939 - val_accuracy: 0.5209\n",
      "Epoch 7/10\n",
      "2344/2344 [==============================] - 3s 1ms/step - loss: 10.1330 - accuracy: 0.4947 - val_loss: 8.3393 - val_accuracy: 0.4813\n",
      "Epoch 8/10\n",
      "2344/2344 [==============================] - 3s 1ms/step - loss: 11.1006 - accuracy: 0.5158 - val_loss: 6.1427 - val_accuracy: 0.6638\n",
      "Epoch 9/10\n",
      "2344/2344 [==============================] - 3s 1ms/step - loss: 10.2089 - accuracy: 0.5457 - val_loss: 9.0960 - val_accuracy: 0.5489\n",
      "Epoch 10/10\n",
      "2344/2344 [==============================] - 3s 1ms/step - loss: 10.8091 - accuracy: 0.5304 - val_loss: 11.2504 - val_accuracy: 0.4683\n"
     ]
    }
   ],
   "source": [
    "model_lr = create_model(lr=1, opt=\"adam\")\n",
    "\n",
    "model_1b = model_lr.fit(X_train_scaled,\n",
    "                y_train, \n",
    "                validation_data=(X_test_scaled, y_test),\n",
    "                workers=-2, \n",
    "                epochs=10, \n",
    "                batch_size=32, \n",
    "                verbose=1, \n",
    "                callbacks=[tensorboard])"
   ]
  },
  {
   "cell_type": "markdown",
   "metadata": {},
   "source": [
    "# Learning Rates Analysis"
   ]
  },
  {
   "cell_type": "markdown",
   "metadata": {},
   "source": [
    "The different learning rates that I used for this experiment were: 0.0001, 0.001, 0.01, 0.1, and 1.0. These learning rates produced a final validation accuracy of 0.8270, 0.8712, 0.8494, 0.7526, and 0.4684, respectively. \n",
    "\n",
    "Learning Rate = 0.001 performed the best for my model with a validation accuracy of 0.8712. This performed worse than my adam model yesterday with a validation accuracy of 0.8814."
   ]
  },
  {
   "cell_type": "markdown",
   "metadata": {
    "colab_type": "text",
    "id": "gxMtSRhV9Q7I"
   },
   "source": [
    "### Experiment with different Optimizers\n",
    "* Run 5 experiments with various optimizers available in TensorFlow. See list [here](https://www.tensorflow.org/api_docs/python/tf/keras/optimizers)\n",
    "* Visualize the results\n",
    "* Write up an analysis of the experiments and select the \"best\" performing model among your experiments. Make sure to compare against the previous experiments and your model's performance yesterday.\n",
    "* Repeat the experiment combining Learning Rate and different optimizers. Does the best performing model change? "
   ]
  },
  {
   "cell_type": "code",
   "execution_count": 50,
   "metadata": {
    "colab": {},
    "colab_type": "code",
    "id": "ujLuzdNA91ip",
    "scrolled": true
   },
   "outputs": [
    {
     "name": "stdout",
     "output_type": "stream",
     "text": [
      "Epoch 1/10\n",
      "2344/2344 [==============================] - 4s 2ms/step - loss: 0.9404 - accuracy: 0.7199 - val_loss: 0.6247 - val_accuracy: 0.8172\n",
      "Epoch 2/10\n",
      "2344/2344 [==============================] - 3s 1ms/step - loss: 0.5685 - accuracy: 0.8321 - val_loss: 0.5246 - val_accuracy: 0.8440\n",
      "Epoch 3/10\n",
      "2344/2344 [==============================] - 3s 1ms/step - loss: 0.4698 - accuracy: 0.8604 - val_loss: 0.4860 - val_accuracy: 0.8556\n",
      "Epoch 4/10\n",
      "2344/2344 [==============================] - 3s 1ms/step - loss: 0.4080 - accuracy: 0.8782 - val_loss: 0.4682 - val_accuracy: 0.8605\n",
      "Epoch 5/10\n",
      "2344/2344 [==============================] - 3s 1ms/step - loss: 0.3650 - accuracy: 0.8923 - val_loss: 0.4432 - val_accuracy: 0.8712\n",
      "Epoch 6/10\n",
      "2344/2344 [==============================] - 3s 1ms/step - loss: 0.3345 - accuracy: 0.9015 - val_loss: 0.4367 - val_accuracy: 0.8724\n",
      "Epoch 7/10\n",
      "2344/2344 [==============================] - 3s 1ms/step - loss: 0.3021 - accuracy: 0.9099 - val_loss: 0.4340 - val_accuracy: 0.8746\n",
      "Epoch 8/10\n",
      "2344/2344 [==============================] - 4s 2ms/step - loss: 0.2736 - accuracy: 0.9200 - val_loss: 0.4375 - val_accuracy: 0.8752\n",
      "Epoch 9/10\n",
      "2344/2344 [==============================] - 4s 2ms/step - loss: 0.2478 - accuracy: 0.9285 - val_loss: 0.4330 - val_accuracy: 0.8743\n",
      "Epoch 10/10\n",
      "2344/2344 [==============================] - 3s 1ms/step - loss: 0.2250 - accuracy: 0.9366 - val_loss: 0.4453 - val_accuracy: 0.8736\n"
     ]
    }
   ],
   "source": [
    "model_opt = create_model(lr=0.001, opt=\"adam\")\n",
    "\n",
    "model_adam = model_opt.fit(X_train_scaled,\n",
    "                y_train, \n",
    "                validation_data=(X_test_scaled, y_test),\n",
    "                workers=-2, \n",
    "                epochs=10, \n",
    "                batch_size=32, \n",
    "                verbose=1, \n",
    "                callbacks=[tensorboard])"
   ]
  },
  {
   "cell_type": "code",
   "execution_count": 51,
   "metadata": {
    "scrolled": true
   },
   "outputs": [
    {
     "name": "stdout",
     "output_type": "stream",
     "text": [
      "Epoch 1/10\n",
      "2344/2344 [==============================] - 3s 1ms/step - loss: 2.2568 - accuracy: 0.2244 - val_loss: 2.0491 - val_accuracy: 0.4859\n",
      "Epoch 2/10\n",
      "2344/2344 [==============================] - 3s 1ms/step - loss: 1.9909 - accuracy: 0.5145 - val_loss: 1.8315 - val_accuracy: 0.5823\n",
      "Epoch 3/10\n",
      "2344/2344 [==============================] - 3s 1ms/step - loss: 1.7801 - accuracy: 0.5979 - val_loss: 1.6502 - val_accuracy: 0.6274\n",
      "Epoch 4/10\n",
      "2344/2344 [==============================] - 3s 1ms/step - loss: 1.6062 - accuracy: 0.6356 - val_loss: 1.5079 - val_accuracy: 0.6485\n",
      "Epoch 5/10\n",
      "2344/2344 [==============================] - 3s 1ms/step - loss: 1.4772 - accuracy: 0.6523 - val_loss: 1.3996 - val_accuracy: 0.6658\n",
      "Epoch 6/10\n",
      "2344/2344 [==============================] - 3s 1ms/step - loss: 1.3762 - accuracy: 0.6658 - val_loss: 1.3172 - val_accuracy: 0.6719\n",
      "Epoch 7/10\n",
      "2344/2344 [==============================] - 3s 1ms/step - loss: 1.2958 - accuracy: 0.6749 - val_loss: 1.2531 - val_accuracy: 0.6827\n",
      "Epoch 8/10\n",
      "2344/2344 [==============================] - 3s 1ms/step - loss: 1.2335 - accuracy: 0.6848 - val_loss: 1.2024 - val_accuracy: 0.6890\n",
      "Epoch 9/10\n",
      "2344/2344 [==============================] - 3s 1ms/step - loss: 1.1812 - accuracy: 0.6941 - val_loss: 1.1614 - val_accuracy: 0.6946\n",
      "Epoch 10/10\n",
      "2344/2344 [==============================] - 3s 1ms/step - loss: 1.1426 - accuracy: 0.6959 - val_loss: 1.1270 - val_accuracy: 0.6998\n"
     ]
    }
   ],
   "source": [
    "model_opt = create_model(lr=0.001, opt=\"sgd\")\n",
    "\n",
    "model_sgd = model_opt.fit(X_train_scaled,\n",
    "                y_train, \n",
    "                validation_data=(X_test_scaled, y_test),\n",
    "                workers=-2, \n",
    "                epochs=10, \n",
    "                batch_size=32, \n",
    "                verbose=1, \n",
    "                callbacks=[tensorboard])"
   ]
  },
  {
   "cell_type": "code",
   "execution_count": 54,
   "metadata": {
    "scrolled": true
   },
   "outputs": [
    {
     "name": "stdout",
     "output_type": "stream",
     "text": [
      "Epoch 1/10\n",
      "2344/2344 [==============================] - 4s 2ms/step - loss: 0.9282 - accuracy: 0.7239 - val_loss: 0.6202 - val_accuracy: 0.8198\n",
      "Epoch 2/10\n",
      "2344/2344 [==============================] - 3s 1ms/step - loss: 0.5682 - accuracy: 0.8325 - val_loss: 0.5279 - val_accuracy: 0.8458\n",
      "Epoch 3/10\n",
      "2344/2344 [==============================] - 3s 1ms/step - loss: 0.4848 - accuracy: 0.8561 - val_loss: 0.4942 - val_accuracy: 0.8553\n",
      "Epoch 4/10\n",
      "2344/2344 [==============================] - 4s 2ms/step - loss: 0.4252 - accuracy: 0.8741 - val_loss: 0.4849 - val_accuracy: 0.8610\n",
      "Epoch 5/10\n",
      "2344/2344 [==============================] - 4s 2ms/step - loss: 0.3842 - accuracy: 0.8879 - val_loss: 0.4588 - val_accuracy: 0.8668\n",
      "Epoch 6/10\n",
      "2344/2344 [==============================] - 4s 2ms/step - loss: 0.3576 - accuracy: 0.8944 - val_loss: 0.4602 - val_accuracy: 0.8678\n",
      "Epoch 7/10\n",
      "2344/2344 [==============================] - 4s 2ms/step - loss: 0.3324 - accuracy: 0.9035 - val_loss: 0.4500 - val_accuracy: 0.8704\n",
      "Epoch 8/10\n",
      "2344/2344 [==============================] - 4s 2ms/step - loss: 0.3058 - accuracy: 0.9110 - val_loss: 0.4456 - val_accuracy: 0.8735\n",
      "Epoch 9/10\n",
      "2344/2344 [==============================] - 4s 2ms/step - loss: 0.2835 - accuracy: 0.9186 - val_loss: 0.4543 - val_accuracy: 0.8738\n",
      "Epoch 10/10\n",
      "2344/2344 [==============================] - 4s 2ms/step - loss: 0.2662 - accuracy: 0.9234 - val_loss: 0.4699 - val_accuracy: 0.8693\n"
     ]
    }
   ],
   "source": [
    "model_opt = create_model(lr=0.001, opt=\"rmsprop\")\n",
    "\n",
    "model_rmsprop = model_opt.fit(X_train_scaled,\n",
    "                y_train, \n",
    "                validation_data=(X_test_scaled, y_test),\n",
    "                workers=-2, \n",
    "                epochs=10, \n",
    "                batch_size=32, \n",
    "                verbose=1, \n",
    "                callbacks=[tensorboard])"
   ]
  },
  {
   "cell_type": "code",
   "execution_count": 55,
   "metadata": {
    "scrolled": true
   },
   "outputs": [
    {
     "name": "stdout",
     "output_type": "stream",
     "text": [
      "Epoch 1/10\n",
      "2344/2344 [==============================] - 5s 2ms/step - loss: 0.9507 - accuracy: 0.7198 - val_loss: 0.6270 - val_accuracy: 0.8156\n",
      "Epoch 2/10\n",
      "2344/2344 [==============================] - 4s 2ms/step - loss: 0.5739 - accuracy: 0.8295 - val_loss: 0.5330 - val_accuracy: 0.8410\n",
      "Epoch 3/10\n",
      "2344/2344 [==============================] - 5s 2ms/step - loss: 0.4681 - accuracy: 0.8610 - val_loss: 0.4860 - val_accuracy: 0.8567\n",
      "Epoch 4/10\n",
      "2344/2344 [==============================] - 4s 2ms/step - loss: 0.4145 - accuracy: 0.8763 - val_loss: 0.4709 - val_accuracy: 0.8594\n",
      "Epoch 5/10\n",
      "2344/2344 [==============================] - 4s 2ms/step - loss: 0.3695 - accuracy: 0.8905 - val_loss: 0.4406 - val_accuracy: 0.8706\n",
      "Epoch 6/10\n",
      "2344/2344 [==============================] - 4s 2ms/step - loss: 0.3298 - accuracy: 0.9031 - val_loss: 0.4425 - val_accuracy: 0.8691\n",
      "Epoch 7/10\n",
      "2344/2344 [==============================] - 4s 2ms/step - loss: 0.3000 - accuracy: 0.9128 - val_loss: 0.4276 - val_accuracy: 0.8752\n",
      "Epoch 8/10\n",
      "2344/2344 [==============================] - 4s 2ms/step - loss: 0.2744 - accuracy: 0.9201 - val_loss: 0.4285 - val_accuracy: 0.8735\n",
      "Epoch 9/10\n",
      "2344/2344 [==============================] - 4s 2ms/step - loss: 0.2481 - accuracy: 0.9295 - val_loss: 0.4399 - val_accuracy: 0.8711\n",
      "Epoch 10/10\n",
      "2344/2344 [==============================] - 4s 2ms/step - loss: 0.2226 - accuracy: 0.9364 - val_loss: 0.4362 - val_accuracy: 0.8760\n"
     ]
    }
   ],
   "source": [
    "model_opt = create_model(lr=0.001, opt=\"nadam\")\n",
    "\n",
    "model_nadam = model_opt.fit(X_train_scaled,\n",
    "                y_train, \n",
    "                validation_data=(X_test_scaled, y_test),\n",
    "                workers=-2, \n",
    "                epochs=10, \n",
    "                batch_size=32, \n",
    "                verbose=1, \n",
    "                callbacks=[tensorboard])"
   ]
  },
  {
   "cell_type": "code",
   "execution_count": 56,
   "metadata": {},
   "outputs": [
    {
     "name": "stdout",
     "output_type": "stream",
     "text": [
      "Epoch 1/10\n",
      "2344/2344 [==============================] - 4s 2ms/step - loss: 2.3815 - accuracy: 0.1071 - val_loss: 2.2272 - val_accuracy: 0.1827\n",
      "Epoch 2/10\n",
      "2344/2344 [==============================] - 3s 1ms/step - loss: 2.1877 - accuracy: 0.2386 - val_loss: 2.1015 - val_accuracy: 0.3554\n",
      "Epoch 3/10\n",
      "2344/2344 [==============================] - 4s 1ms/step - loss: 2.0723 - accuracy: 0.3907 - val_loss: 2.0052 - val_accuracy: 0.4636\n",
      "Epoch 4/10\n",
      "2344/2344 [==============================] - 3s 1ms/step - loss: 1.9791 - accuracy: 0.4915 - val_loss: 1.9208 - val_accuracy: 0.5299\n",
      "Epoch 5/10\n",
      "2344/2344 [==============================] - 3s 1ms/step - loss: 1.8982 - accuracy: 0.5429 - val_loss: 1.8451 - val_accuracy: 0.5650\n",
      "Epoch 6/10\n",
      "2344/2344 [==============================] - 3s 1ms/step - loss: 1.8202 - accuracy: 0.5820 - val_loss: 1.7770 - val_accuracy: 0.5895\n",
      "Epoch 7/10\n",
      "2344/2344 [==============================] - 3s 1ms/step - loss: 1.7560 - accuracy: 0.6006 - val_loss: 1.7160 - val_accuracy: 0.6062\n",
      "Epoch 8/10\n",
      "2344/2344 [==============================] - 3s 1ms/step - loss: 1.6962 - accuracy: 0.6141 - val_loss: 1.6609 - val_accuracy: 0.6187\n",
      "Epoch 9/10\n",
      "2344/2344 [==============================] - 3s 1ms/step - loss: 1.6410 - accuracy: 0.6260 - val_loss: 1.6116 - val_accuracy: 0.6276\n",
      "Epoch 10/10\n",
      "2344/2344 [==============================] - 3s 1ms/step - loss: 1.5923 - accuracy: 0.6374 - val_loss: 1.5671 - val_accuracy: 0.6364\n"
     ]
    }
   ],
   "source": [
    "model_opt = create_model(lr=0.001, opt=\"adadelta\")\n",
    "\n",
    "model_adadelta = model_opt.fit(X_train_scaled,\n",
    "                y_train, \n",
    "                validation_data=(X_test_scaled, y_test),\n",
    "                workers=-2, \n",
    "                epochs=10, \n",
    "                batch_size=32, \n",
    "                verbose=1, \n",
    "                callbacks=[tensorboard])"
   ]
  },
  {
   "cell_type": "markdown",
   "metadata": {},
   "source": [
    "# Optimizers Analysis"
   ]
  },
  {
   "cell_type": "markdown",
   "metadata": {},
   "source": [
    "The optimizers I experimented with were Adam, SGD, RMSprop, Nadam, and Adadelta. They produced validation accuracies of 0.8736, 0.6998, 0.8693, 0.8760, and 0.6364, respectively. Here is the order of performance:\n",
    "\n",
    "1.) Nadam - 0.8760\n",
    "2.) Adam - 0.8736\n",
    "3.) RMSprop - 0.8693\n",
    "4.) SGD - 0.6998\n",
    "5.) Adadelta - 0.6364\n",
    "\n",
    "The Nadam model still doesn't live up to yesterday's Adam model, but I suspect that is because yesterday's model trained on 20 epochs, whereas this Nadam model only trained on 10 epochs. I am going to run the Nadam model on 20 epochs and see how it performs against yesterday's Adam model. Remember, yesterday's model had a validation accuracy of 0.8814 (and also overfit training data)."
   ]
  },
  {
   "cell_type": "code",
   "execution_count": 57,
   "metadata": {
    "scrolled": true
   },
   "outputs": [
    {
     "name": "stdout",
     "output_type": "stream",
     "text": [
      "Epoch 1/20\n",
      "2344/2344 [==============================] - 5s 2ms/step - loss: 0.9615 - accuracy: 0.7125 - val_loss: 0.6298 - val_accuracy: 0.8144\n",
      "Epoch 2/20\n",
      "2344/2344 [==============================] - 4s 2ms/step - loss: 0.5744 - accuracy: 0.8312 - val_loss: 0.5205 - val_accuracy: 0.8464\n",
      "Epoch 3/20\n",
      "2344/2344 [==============================] - 5s 2ms/step - loss: 0.4635 - accuracy: 0.8638 - val_loss: 0.4762 - val_accuracy: 0.8591\n",
      "Epoch 4/20\n",
      "2344/2344 [==============================] - 5s 2ms/step - loss: 0.4101 - accuracy: 0.8785 - val_loss: 0.4617 - val_accuracy: 0.8644\n",
      "Epoch 5/20\n",
      "2344/2344 [==============================] - 5s 2ms/step - loss: 0.3705 - accuracy: 0.8911 - val_loss: 0.4407 - val_accuracy: 0.8714\n",
      "Epoch 6/20\n",
      "2344/2344 [==============================] - 4s 2ms/step - loss: 0.3309 - accuracy: 0.9040 - val_loss: 0.4352 - val_accuracy: 0.8731\n",
      "Epoch 7/20\n",
      "2344/2344 [==============================] - 4s 2ms/step - loss: 0.3015 - accuracy: 0.9114 - val_loss: 0.4309 - val_accuracy: 0.8742\n",
      "Epoch 8/20\n",
      "2344/2344 [==============================] - 4s 2ms/step - loss: 0.2745 - accuracy: 0.9222 - val_loss: 0.4498 - val_accuracy: 0.8673\n",
      "Epoch 9/20\n",
      "2344/2344 [==============================] - 4s 2ms/step - loss: 0.2497 - accuracy: 0.9300 - val_loss: 0.4427 - val_accuracy: 0.8730\n",
      "Epoch 10/20\n",
      "2344/2344 [==============================] - 4s 2ms/step - loss: 0.2239 - accuracy: 0.9368 - val_loss: 0.4457 - val_accuracy: 0.8734\n",
      "Epoch 11/20\n",
      "2344/2344 [==============================] - 4s 2ms/step - loss: 0.2043 - accuracy: 0.9426 - val_loss: 0.4494 - val_accuracy: 0.8724\n",
      "Epoch 12/20\n",
      "2344/2344 [==============================] - 5s 2ms/step - loss: 0.1834 - accuracy: 0.9497 - val_loss: 0.4572 - val_accuracy: 0.8720\n",
      "Epoch 13/20\n",
      "2344/2344 [==============================] - 4s 2ms/step - loss: 0.1676 - accuracy: 0.9546 - val_loss: 0.4651 - val_accuracy: 0.8716\n",
      "Epoch 14/20\n",
      "2344/2344 [==============================] - 4s 2ms/step - loss: 0.1513 - accuracy: 0.9607 - val_loss: 0.4681 - val_accuracy: 0.8730\n",
      "Epoch 15/20\n",
      "2344/2344 [==============================] - 4s 2ms/step - loss: 0.1342 - accuracy: 0.9650 - val_loss: 0.4826 - val_accuracy: 0.8710\n",
      "Epoch 16/20\n",
      "2344/2344 [==============================] - 4s 2ms/step - loss: 0.1214 - accuracy: 0.9694 - val_loss: 0.5019 - val_accuracy: 0.8694\n",
      "Epoch 17/20\n",
      "2344/2344 [==============================] - 5s 2ms/step - loss: 0.1093 - accuracy: 0.9746 - val_loss: 0.5070 - val_accuracy: 0.8706\n",
      "Epoch 18/20\n",
      "2344/2344 [==============================] - 4s 2ms/step - loss: 0.1012 - accuracy: 0.9752 - val_loss: 0.5234 - val_accuracy: 0.8684\n",
      "Epoch 19/20\n",
      "2344/2344 [==============================] - 4s 2ms/step - loss: 0.0905 - accuracy: 0.9795 - val_loss: 0.5314 - val_accuracy: 0.8685\n",
      "Epoch 20/20\n",
      "2344/2344 [==============================] - 4s 2ms/step - loss: 0.0791 - accuracy: 0.9821 - val_loss: 0.5511 - val_accuracy: 0.8689\n"
     ]
    }
   ],
   "source": [
    "model_opt = create_model(lr=0.001, opt=\"nadam\")\n",
    "\n",
    "model_nadam_20_epochs = model_opt.fit(X_train_scaled,\n",
    "                y_train, \n",
    "                validation_data=(X_test_scaled, y_test),\n",
    "                workers=-2, \n",
    "                epochs=20, \n",
    "                batch_size=32, \n",
    "                verbose=1, \n",
    "                callbacks=[tensorboard])"
   ]
  },
  {
   "cell_type": "markdown",
   "metadata": {},
   "source": [
    "It looks like after 11 epochs, the model does not improve, and doesn't beat yesterday's Adam model. I'm going to guess this is due to yesterday's model having 3 hidden layers, whereas this Nadam model only has 1 hidden layer."
   ]
  },
  {
   "cell_type": "markdown",
   "metadata": {
    "colab_type": "text",
    "id": "FwlRJSfBlCvy"
   },
   "source": [
    "------\n",
    "\n",
    "## Stretch Goals: \n",
    "\n",
    "- On the learning rate experiments, implement [EarlyStopping](https://keras.io/api/callbacks/early_stopping/)\n",
    "- Review the math of Gradient Descent. "
   ]
  }
 ],
 "metadata": {
  "colab": {
   "collapsed_sections": [],
   "name": "LS_DS_432_Train_Assignment.ipynb",
   "provenance": []
  },
  "kernelspec": {
   "display_name": "Python 3",
   "language": "python",
   "name": "python3"
  },
  "language_info": {
   "codemirror_mode": {
    "name": "ipython",
    "version": 3
   },
   "file_extension": ".py",
   "mimetype": "text/x-python",
   "name": "python",
   "nbconvert_exporter": "python",
   "pygments_lexer": "ipython3",
   "version": "3.8.2"
  },
  "nteract": {
   "version": "0.22.4"
  }
 },
 "nbformat": 4,
 "nbformat_minor": 4
}
