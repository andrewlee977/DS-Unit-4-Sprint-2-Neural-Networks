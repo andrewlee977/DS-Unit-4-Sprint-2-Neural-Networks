{
 "cells": [
  {
   "cell_type": "markdown",
   "metadata": {
    "colab_type": "text",
    "id": "ObyHCH8HvHSf"
   },
   "source": [
    "\n",
    "# *Data Science Unit 4 Sprint 2 Assignment 1*\n",
    "\n",
    "Use TensorFlow Keras & a sample of the [Quickdraw dataset](https://github.com/googlecreativelab/quickdraw-dataset) to build a sketch classification model. The dataset has been sampled to only 10 classes and 10000 observations per class. \n",
    "\n",
    "### Objective\n",
    "\n",
    "- Build a baseline classification model then run a few experiments with different optimizers and learning rates. \n",
    "- Don't forgot to [**switch to GPU on if you're running your notebook on Colab!**](https://colab.research.google.com/notebooks/gpu.ipynb)"
   ]
  },
  {
   "cell_type": "markdown",
   "metadata": {
    "colab_type": "text",
    "id": "s-Tc3ovEyQ9b"
   },
   "source": [
    "## Load Your Data"
   ]
  },
  {
   "cell_type": "code",
   "execution_count": 1,
   "metadata": {
    "colab": {},
    "colab_type": "code",
    "id": "CkU0pAYCvU8o"
   },
   "outputs": [],
   "source": [
    "# imports in first cell \n",
    "import seaborn as sns\n",
    "import pandas as pd\n",
    "import numpy as np\n",
    "import tensorflow as tf \n",
    "import matplotlib.pyplot as plt\n",
    "from sklearn.utils import shuffle\n",
    "\n",
    "# use Sequential to build out your model\n",
    "from tensorflow.keras.models import Sequential\n",
    "\n",
    "# Dense layer is used for Fully Connected Forward Feeding networks\n",
    "from tensorflow.keras.layers import Dense"
   ]
  },
  {
   "cell_type": "code",
   "execution_count": 2,
   "metadata": {
    "colab": {},
    "colab_type": "code",
    "id": "CkU0pAYCvU8o"
   },
   "outputs": [
    {
     "name": "stdout",
     "output_type": "stream",
     "text": [
      "(100000, 784)\n",
      "(100000,)\n"
     ]
    }
   ],
   "source": [
    "# load in data set\n",
    "data = np.load('../quickdraw10.npz')\n",
    "X = data['arr_0']\n",
    "y = data['arr_1']\n",
    "\n",
    "\n",
    "print(X.shape)\n",
    "print(y.shape)"
   ]
  },
  {
   "cell_type": "code",
   "execution_count": 5,
   "metadata": {},
   "outputs": [
    {
     "data": {
      "text/plain": [
       "array([0, 1, 2, 3, 4, 5, 6, 7, 8, 9])"
      ]
     },
     "execution_count": 5,
     "metadata": {},
     "output_type": "execute_result"
    }
   ],
   "source": [
    "np.unique(y)"
   ]
  },
  {
   "cell_type": "code",
   "execution_count": 6,
   "metadata": {
    "colab": {},
    "colab_type": "code",
    "id": "c8qsDqdqvHDd"
   },
   "outputs": [],
   "source": [
    "class_names = ['apple',\n",
    "             'anvil',\n",
    "             'airplane',\n",
    "             'banana',\n",
    "             'The Eiffel Tower',\n",
    "             'The Mona Lisa',\n",
    "             'The Great Wall of China',\n",
    "             'alarm clock',\n",
    "             'ant',\n",
    "             'asparagus']"
   ]
  },
  {
   "cell_type": "code",
   "execution_count": 7,
   "metadata": {
    "colab": {},
    "colab_type": "code",
    "id": "Owbm1EbxvA5A"
   },
   "outputs": [
    {
     "data": {
      "image/png": "[encoded data removed]",
      "text/plain": [
       "<Figure size 720x360 with 10 Axes>"
      ]
     },
     "metadata": {},
     "output_type": "display_data"
    }
   ],
   "source": [
    "# these are your 10 unique images\n",
    "plt.figure(figsize=(10,5))\n",
    "start = 0\n",
    "\n",
    "for num, name in enumerate(class_names):\n",
    "    plt.subplot(2,5, num+1)\n",
    "    plt.xticks([])\n",
    "    plt.yticks([])\n",
    "    plt.grid(False)\n",
    "    plt.imshow(X[start].reshape(28,28), cmap=plt.cm.binary)\n",
    "    plt.xlabel(name)\n",
    "    start += 10000\n",
    "plt.show()"
   ]
  },
  {
   "cell_type": "markdown",
   "metadata": {},
   "source": [
    "Say hello to the Quickdraw dataset. \n",
    "\n",
    "You'll be using this dataset a lot this week as an alternative to the mnist which we'll be using in the guided projects. The nice thing about this dataset is that it's simple, which allows us to focus on our model, it's various components, and gradually coming to a better understand of how to build neural networks without worrying about cleaning and prepping our image data too much. "
   ]
  },
  {
   "cell_type": "code",
   "execution_count": 8,
   "metadata": {
    "colab": {},
    "colab_type": "code",
    "id": "c97_M1WNvTNY"
   },
   "outputs": [],
   "source": [
    "# always a good idea to shuffle your dataset \n",
    "X, y = shuffle(X, y)"
   ]
  },
  {
   "cell_type": "code",
   "execution_count": 18,
   "metadata": {},
   "outputs": [
    {
     "data": {
      "text/plain": [
       "(100000, 784)"
      ]
     },
     "execution_count": 18,
     "metadata": {},
     "output_type": "execute_result"
    }
   ],
   "source": [
    "X.shape"
   ]
  },
  {
   "cell_type": "code",
   "execution_count": 12,
   "metadata": {},
   "outputs": [
    {
     "data": {
      "text/plain": [
       "array([0, 1, 2, 3, 4, 5, 6, 7, 8, 9])"
      ]
     },
     "execution_count": 12,
     "metadata": {},
     "output_type": "execute_result"
    }
   ],
   "source": [
    "np.unique(y)"
   ]
  },
  {
   "cell_type": "markdown",
   "metadata": {
    "colab_type": "text",
    "id": "jb70CbLVyK65"
   },
   "source": [
    "-----\n",
    "\n",
    "## Build Your Baseline Model\n",
    "\n",
    "Make sure that you\n",
    "\n",
    "- **Determine** the dimensionality of your input data by investigating **X**\n",
    "- **Normalize** your input data to values between 0 and 1 \n",
    "- **Determine** the number of neurons in your output layer by investigating **Y**\n",
    "- **Select** `sparse_categorical_crossentropy` as your loss function.\n",
    "- **Select** `sgd` as your optimizer.\n",
    "- **Add** 3 hidden layers to your model with the following number of nodes\n",
    "    - h1 has 500 nodes\n",
    "    - h2 has 250 nodes\n",
    "    - h3 has 100 nodes\n",
    "    \n",
    "- **Set** epochs to 20 \n",
    "- **Use** the `validation_split` command to automatically create a training / validation dataset from within the model, so you don't have to do it yourself.\n",
    "    -  Specify a percentage such as .2 in your fit statement.\n",
    " \n",
    " \n",
    "Not sure what the various parameters are for or what what values to assign to them?\n",
    "\n",
    "- Reference the guided project notebook for Sprint 2 Module 1\n",
    "- Reference the [**Keras documentation**](https://keras.io/api/)\n",
    "- Google other examples\n",
    "- Discuss your results with classmates "
   ]
  },
  {
   "cell_type": "code",
   "execution_count": 32,
   "metadata": {},
   "outputs": [
    {
     "data": {
      "text/plain": [
       "(784,)"
      ]
     },
     "execution_count": 32,
     "metadata": {},
     "output_type": "execute_result"
    }
   ],
   "source": [
    "X[10].shape"
   ]
  },
  {
   "cell_type": "code",
   "execution_count": 21,
   "metadata": {},
   "outputs": [
    {
     "data": {
      "text/plain": [
       "array([[0, 0, 0, ..., 0, 0, 0],\n",
       "       [0, 0, 0, ..., 0, 0, 0],\n",
       "       [0, 0, 0, ..., 0, 0, 0],\n",
       "       ...,\n",
       "       [0, 0, 0, ..., 0, 0, 0],\n",
       "       [0, 0, 0, ..., 0, 0, 0],\n",
       "       [0, 0, 0, ..., 0, 0, 0]], dtype=uint8)"
      ]
     },
     "execution_count": 21,
     "metadata": {},
     "output_type": "execute_result"
    }
   ],
   "source": [
    "X"
   ]
  },
  {
   "cell_type": "code",
   "execution_count": 20,
   "metadata": {},
   "outputs": [
    {
     "data": {
      "text/plain": [
       "(255, 0)"
      ]
     },
     "execution_count": 20,
     "metadata": {},
     "output_type": "execute_result"
    }
   ],
   "source": [
    "X.max(), X.min()"
   ]
  },
  {
   "cell_type": "code",
   "execution_count": 24,
   "metadata": {},
   "outputs": [
    {
     "data": {
      "text/plain": [
       "array([0, 1, 2, 3, 4, 5, 6, 7, 8, 9])"
      ]
     },
     "execution_count": 24,
     "metadata": {},
     "output_type": "execute_result"
    }
   ],
   "source": [
    "np.unique(y)"
   ]
  },
  {
   "cell_type": "code",
   "execution_count": 25,
   "metadata": {
    "deletable": false,
    "nbgrader": {
     "cell_type": "code",
     "checksum": "ef20dd34df6998e0a50e394d59d58659",
     "grade": false,
     "grade_id": "cell-907b9348d7a2ebb3",
     "locked": false,
     "schema_version": 3,
     "solution": true,
     "task": false
    }
   },
   "outputs": [],
   "source": [
    "# get dim of image row vectors and save to input_dim\n",
    "input_dim = 784\n",
    "\n",
    "# get number of unique labels and save to n_output_nodes\n",
    "n_output_nodes = len(np.unique(y))\n",
    "\n",
    "# normalize image data to values between 0 and 1 (by dividing by max pixel value)\n",
    "max_pixel_val = X.max()\n",
    "X = X.astype('float32') / max_pixel_val"
   ]
  },
  {
   "cell_type": "code",
   "execution_count": 26,
   "metadata": {},
   "outputs": [
    {
     "data": {
      "text/plain": [
       "(1.0, 0.0)"
      ]
     },
     "execution_count": 26,
     "metadata": {},
     "output_type": "execute_result"
    }
   ],
   "source": [
    "# Normalizing ranges between 0 and 1\n",
    "X.max(), X.min()"
   ]
  },
  {
   "cell_type": "code",
   "execution_count": 33,
   "metadata": {},
   "outputs": [
    {
     "data": {
      "text/plain": [
       "(100000, 784)"
      ]
     },
     "execution_count": 33,
     "metadata": {},
     "output_type": "execute_result"
    }
   ],
   "source": [
    "X.shape"
   ]
  },
  {
   "cell_type": "code",
   "execution_count": 37,
   "metadata": {},
   "outputs": [],
   "source": [
    "# a check on your data prep \n",
    "assert  X.max(), \"Max pixel value should be 1.0, make sure you normalize your data\""
   ]
  },
  {
   "cell_type": "code",
   "execution_count": 41,
   "metadata": {
    "colab": {},
    "colab_type": "code",
    "deletable": false,
    "id": "zHWblzsMyNkU",
    "nbgrader": {
     "cell_type": "code",
     "checksum": "f0ba174cb72f491f73c3aa7df8ae7ac4",
     "grade": false,
     "grade_id": "cell-b7c96fc46d86725f",
     "locked": false,
     "schema_version": 3,
     "solution": true,
     "task": false
    }
   },
   "outputs": [],
   "source": [
    "# instantiate a sequential object and call it model, then add layers to your model\n",
    "model = Sequential()\n",
    "\n",
    "# Hidden Layer 1\n",
    "model.add(Dense(500,\n",
    "         activation=\"sigmoid\",\n",
    "         input_dim=input_dim)) # This line is the Input Layer\n",
    "\n",
    "# Hidden Layer 2\n",
    "model.add(Dense(250,\n",
    "               activation=\"sigmoid\"))\n",
    "\n",
    "# Hidden Layer 3\n",
    "model.add(Dense(100,\n",
    "               activation=\"sigmoid\"))\n",
    "\n",
    "# Output Layer\n",
    "model.add(Dense(n_output_nodes,\n",
    "                activation=\"softmax\")) # softmax allows sigmoid to handle more than two classifications\n",
    "\n",
    "# Compile the Model\n",
    "model.compile(optimizer=\"sgd\", loss=\"sparse_categorical_crossentropy\", metrics=[\"accuracy\"])"
   ]
  },
  {
   "cell_type": "code",
   "execution_count": 43,
   "metadata": {},
   "outputs": [],
   "source": [
    "# a check on your model architecture \n",
    "n_layers = len(model.get_config()[\"layers\"])\n",
    "assert n_layers == 5, \"You should have 5 layers: input, h1, h2, h3, and output\""
   ]
  },
  {
   "cell_type": "code",
   "execution_count": 44,
   "metadata": {},
   "outputs": [
    {
     "name": "stdout",
     "output_type": "stream",
     "text": [
      "Model: \"sequential_1\"\n",
      "_________________________________________________________________\n",
      "Layer (type)                 Output Shape              Param #   \n",
      "=================================================================\n",
      "dense_2 (Dense)              (None, 500)               392500    \n",
      "_________________________________________________________________\n",
      "dense_3 (Dense)              (None, 250)               125250    \n",
      "_________________________________________________________________\n",
      "dense_4 (Dense)              (None, 100)               25100     \n",
      "_________________________________________________________________\n",
      "dense_5 (Dense)              (None, 10)                1010      \n",
      "=================================================================\n",
      "Total params: 543,860\n",
      "Trainable params: 543,860\n",
      "Non-trainable params: 0\n",
      "_________________________________________________________________\n"
     ]
    }
   ],
   "source": [
    "# check out your model summary \n",
    "model.summary()"
   ]
  },
  {
   "cell_type": "code",
   "execution_count": 45,
   "metadata": {},
   "outputs": [],
   "source": [
    "epochs = 20"
   ]
  },
  {
   "cell_type": "code",
   "execution_count": 46,
   "metadata": {
    "colab": {},
    "colab_type": "code",
    "id": "zHWblzsMyNkU"
   },
   "outputs": [
    {
     "name": "stdout",
     "output_type": "stream",
     "text": [
      "Epoch 1/20\n",
      "2500/2500 [==============================] - 6s 2ms/step - loss: 2.3086 - accuracy: 0.1195 - val_loss: 2.2739 - val_accuracy: 0.0997\n",
      "Epoch 2/20\n",
      "2500/2500 [==============================] - 5s 2ms/step - loss: 2.2550 - accuracy: 0.2412 - val_loss: 2.1431 - val_accuracy: 0.4530\n",
      "Epoch 3/20\n",
      "2500/2500 [==============================] - 6s 2ms/step - loss: 2.0347 - accuracy: 0.4214 - val_loss: 1.6692 - val_accuracy: 0.4974\n",
      "Epoch 4/20\n",
      "2500/2500 [==============================] - 6s 2ms/step - loss: 1.5923 - accuracy: 0.5107 - val_loss: 1.4145 - val_accuracy: 0.5534\n",
      "Epoch 5/20\n",
      "2500/2500 [==============================] - 6s 2ms/step - loss: 1.3690 - accuracy: 0.5713 - val_loss: 1.2353 - val_accuracy: 0.6133\n",
      "Epoch 6/20\n",
      "2500/2500 [==============================] - 6s 2ms/step - loss: 1.2012 - accuracy: 0.6228 - val_loss: 1.1088 - val_accuracy: 0.6557\n",
      "Epoch 7/20\n",
      "2500/2500 [==============================] - 6s 2ms/step - loss: 1.0872 - accuracy: 0.6651 - val_loss: 1.0211 - val_accuracy: 0.6848\n",
      "Epoch 8/20\n",
      "2500/2500 [==============================] - 5s 2ms/step - loss: 1.0164 - accuracy: 0.6897 - val_loss: 0.9745 - val_accuracy: 0.7059\n",
      "Epoch 9/20\n",
      "2500/2500 [==============================] - 5s 2ms/step - loss: 0.9739 - accuracy: 0.7039 - val_loss: 0.9433 - val_accuracy: 0.7131\n",
      "Epoch 10/20\n",
      "2500/2500 [==============================] - 5s 2ms/step - loss: 0.9506 - accuracy: 0.7132 - val_loss: 0.9199 - val_accuracy: 0.7220\n",
      "Epoch 11/20\n",
      "2500/2500 [==============================] - 6s 2ms/step - loss: 0.9212 - accuracy: 0.7219 - val_loss: 0.8995 - val_accuracy: 0.7359\n",
      "Epoch 12/20\n",
      "2500/2500 [==============================] - 6s 2ms/step - loss: 0.9081 - accuracy: 0.7281 - val_loss: 0.8769 - val_accuracy: 0.7419\n",
      "Epoch 13/20\n",
      "2500/2500 [==============================] - 5s 2ms/step - loss: 0.8782 - accuracy: 0.7405 - val_loss: 0.8586 - val_accuracy: 0.7477\n",
      "Epoch 14/20\n",
      "2500/2500 [==============================] - 6s 2ms/step - loss: 0.8524 - accuracy: 0.7448 - val_loss: 0.8410 - val_accuracy: 0.7490\n",
      "Epoch 15/20\n",
      "2500/2500 [==============================] - 6s 2ms/step - loss: 0.8456 - accuracy: 0.7488 - val_loss: 0.8245 - val_accuracy: 0.7564\n",
      "Epoch 16/20\n",
      "2500/2500 [==============================] - 6s 2ms/step - loss: 0.8301 - accuracy: 0.7519 - val_loss: 0.8130 - val_accuracy: 0.7563\n",
      "Epoch 17/20\n",
      "2500/2500 [==============================] - 6s 2ms/step - loss: 0.8175 - accuracy: 0.7574 - val_loss: 0.7988 - val_accuracy: 0.7602\n",
      "Epoch 18/20\n",
      "2500/2500 [==============================] - 6s 2ms/step - loss: 0.8011 - accuracy: 0.7607 - val_loss: 0.7888 - val_accuracy: 0.7612\n",
      "Epoch 19/20\n",
      "2500/2500 [==============================] - 6s 2ms/step - loss: 0.7960 - accuracy: 0.7631 - val_loss: 0.7789 - val_accuracy: 0.7692\n",
      "Epoch 20/20\n",
      "2500/2500 [==============================] - 6s 2ms/step - loss: 0.7796 - accuracy: 0.7668 - val_loss: 0.7687 - val_accuracy: 0.7741\n"
     ]
    }
   ],
   "source": [
    "# fit your model and save training resuts to history \n",
    "history = model.fit(X,\n",
    "                    y, \n",
    "                    epochs=epochs, \n",
    "                    # test set will be generated within the model (20%)\n",
    "                    validation_split=0.2\n",
    "                   )"
   ]
  },
  {
   "cell_type": "markdown",
   "metadata": {
    "colab_type": "text",
    "id": "b0QJURWh-9uv"
   },
   "source": [
    "----\n",
    "### Visualize the results\n",
    "\n",
    "- Move results in `history` in a dataframe \n",
    "- Use [**Seaborn**](https://seaborn.pydata.org/generated/seaborn.lineplot.html) to create lineplots for both loss and accuracy by epoch. \n",
    "- Analyze the results and write a couple of obsverations. \n",
    "\n",
    "At what point should we have stopped training the model and why? "
   ]
  },
  {
   "cell_type": "code",
   "execution_count": 69,
   "metadata": {
    "colab": {},
    "colab_type": "code",
    "deletable": false,
    "id": "ijAlzfYKAFaY",
    "nbgrader": {
     "cell_type": "code",
     "checksum": "6ef8cde40701c2ef57cf853b19455125",
     "grade": false,
     "grade_id": "cell-16e647cfc3291a01",
     "locked": false,
     "schema_version": 3,
     "solution": true,
     "task": false
    },
    "scrolled": true
   },
   "outputs": [
    {
     "data": {
      "text/plain": [
       "{'loss': [2.29193377494812,\n",
       "  2.22835636138916,\n",
       "  1.9099653959274292,\n",
       "  1.5331984758377075,\n",
       "  1.3217878341674805,\n",
       "  1.1733522415161133,\n",
       "  1.0658307075500488,\n",
       "  1.0018422603607178,\n",
       "  0.965782105922699,\n",
       "  0.9391811490058899,\n",
       "  0.9162170886993408,\n",
       "  0.8946747779846191,\n",
       "  0.8745360374450684,\n",
       "  0.8561677932739258,\n",
       "  0.8399101495742798,\n",
       "  0.8257279396057129,\n",
       "  0.8130056262016296,\n",
       "  0.8011296391487122,\n",
       "  0.7903637886047363,\n",
       "  0.7804102301597595],\n",
       " 'accuracy': [0.13878749310970306,\n",
       "  0.2990874946117401,\n",
       "  0.44510000944137573,\n",
       "  0.5249000191688538,\n",
       "  0.5846499800682068,\n",
       "  0.6324250102043152,\n",
       "  0.6715999841690063,\n",
       "  0.6934999823570251,\n",
       "  0.7066500186920166,\n",
       "  0.7164000272750854,\n",
       "  0.7235000133514404,\n",
       "  0.731737494468689,\n",
       "  0.739549994468689,\n",
       "  0.7443875074386597,\n",
       "  0.7496625185012817,\n",
       "  0.7537999749183655,\n",
       "  0.7577875256538391,\n",
       "  0.7611250281333923,\n",
       "  0.7646124958992004,\n",
       "  0.766837477684021],\n",
       " 'val_loss': [2.2739081382751465,\n",
       "  2.1431000232696533,\n",
       "  1.6691545248031616,\n",
       "  1.4144636392593384,\n",
       "  1.2352724075317383,\n",
       "  1.1087687015533447,\n",
       "  1.0210940837860107,\n",
       "  0.974497377872467,\n",
       "  0.943290650844574,\n",
       "  0.9199081063270569,\n",
       "  0.8994783163070679,\n",
       "  0.8769431710243225,\n",
       "  0.8585699200630188,\n",
       "  0.8410078287124634,\n",
       "  0.8245124220848083,\n",
       "  0.8130032420158386,\n",
       "  0.7987818121910095,\n",
       "  0.7888425588607788,\n",
       "  0.7789211273193359,\n",
       "  0.7687361240386963],\n",
       " 'val_accuracy': [0.09974999725818634,\n",
       "  0.45304998755455017,\n",
       "  0.49744999408721924,\n",
       "  0.5533999800682068,\n",
       "  0.613349974155426,\n",
       "  0.6557499766349792,\n",
       "  0.6847500205039978,\n",
       "  0.7059000134468079,\n",
       "  0.713100016117096,\n",
       "  0.722000002861023,\n",
       "  0.7358999848365784,\n",
       "  0.7419499754905701,\n",
       "  0.7477499842643738,\n",
       "  0.7490000128746033,\n",
       "  0.7563999891281128,\n",
       "  0.7563499808311462,\n",
       "  0.7602499723434448,\n",
       "  0.7612000107765198,\n",
       "  0.7691500186920166,\n",
       "  0.7741000056266785]}"
      ]
     },
     "execution_count": 69,
     "metadata": {},
     "output_type": "execute_result"
    }
   ],
   "source": [
    "history.history"
   ]
  },
  {
   "cell_type": "code",
   "execution_count": 68,
   "metadata": {},
   "outputs": [
    {
     "data": {
      "text/html": [
       "<div>\n",
       "<style scoped>\n",
       "    .dataframe tbody tr th:only-of-type {\n",
       "        vertical-align: middle;\n",
       "    }\n",
       "\n",
       "    .dataframe tbody tr th {\n",
       "        vertical-align: top;\n",
       "    }\n",
       "\n",
       "    .dataframe thead th {\n",
       "        text-align: right;\n",
       "    }\n",
       "</style>\n",
       "<table border=\"1\" class=\"dataframe\">\n",
       "  <thead>\n",
       "    <tr style=\"text-align: right;\">\n",
       "      <th></th>\n",
       "      <th>loss</th>\n",
       "      <th>accuracy</th>\n",
       "      <th>val_loss</th>\n",
       "      <th>val_accuracy</th>\n",
       "    </tr>\n",
       "  </thead>\n",
       "  <tbody>\n",
       "    <tr>\n",
       "      <th>0</th>\n",
       "      <td>2.291934</td>\n",
       "      <td>0.138787</td>\n",
       "      <td>2.273908</td>\n",
       "      <td>0.09975</td>\n",
       "    </tr>\n",
       "    <tr>\n",
       "      <th>1</th>\n",
       "      <td>2.228356</td>\n",
       "      <td>0.299087</td>\n",
       "      <td>2.143100</td>\n",
       "      <td>0.45305</td>\n",
       "    </tr>\n",
       "    <tr>\n",
       "      <th>2</th>\n",
       "      <td>1.909965</td>\n",
       "      <td>0.445100</td>\n",
       "      <td>1.669155</td>\n",
       "      <td>0.49745</td>\n",
       "    </tr>\n",
       "    <tr>\n",
       "      <th>3</th>\n",
       "      <td>1.533198</td>\n",
       "      <td>0.524900</td>\n",
       "      <td>1.414464</td>\n",
       "      <td>0.55340</td>\n",
       "    </tr>\n",
       "    <tr>\n",
       "      <th>4</th>\n",
       "      <td>1.321788</td>\n",
       "      <td>0.584650</td>\n",
       "      <td>1.235272</td>\n",
       "      <td>0.61335</td>\n",
       "    </tr>\n",
       "  </tbody>\n",
       "</table>\n",
       "</div>"
      ],
      "text/plain": [
       "       loss  accuracy  val_loss  val_accuracy\n",
       "0  2.291934  0.138787  2.273908       0.09975\n",
       "1  2.228356  0.299087  2.143100       0.45305\n",
       "2  1.909965  0.445100  1.669155       0.49745\n",
       "3  1.533198  0.524900  1.414464       0.55340\n",
       "4  1.321788  0.584650  1.235272       0.61335"
      ]
     },
     "execution_count": 68,
     "metadata": {},
     "output_type": "execute_result"
    }
   ],
   "source": [
    "df = pd.DataFrame(history.history)\n",
    "df.head()"
   ]
  },
  {
   "cell_type": "code",
   "execution_count": 76,
   "metadata": {},
   "outputs": [
    {
     "data": {
      "text/plain": [
       "20"
      ]
     },
     "execution_count": 76,
     "metadata": {},
     "output_type": "execute_result"
    }
   ],
   "source": [
    "len(df.index)"
   ]
  },
  {
   "cell_type": "code",
   "execution_count": 84,
   "metadata": {},
   "outputs": [
    {
     "name": "stderr",
     "output_type": "stream",
     "text": [
      "/Users/andrewlee/.local/share/virtualenvs/DS-Unit-4-Sprint-2-Neural-Networks-8Xg_7Ctg/lib/python3.8/site-packages/seaborn/_decorators.py:36: FutureWarning: Pass the following variables as keyword args: x, y. From version 0.12, the only valid positional argument will be `data`, and passing other arguments without an explicit keyword will result in an error or misinterpretation.\n",
      "  warnings.warn(\n",
      "/Users/andrewlee/.local/share/virtualenvs/DS-Unit-4-Sprint-2-Neural-Networks-8Xg_7Ctg/lib/python3.8/site-packages/seaborn/_decorators.py:36: FutureWarning: Pass the following variables as keyword args: x, y. From version 0.12, the only valid positional argument will be `data`, and passing other arguments without an explicit keyword will result in an error or misinterpretation.\n",
      "  warnings.warn(\n"
     ]
    },
    {
     "data": {
      "image/png": "[encoded data removed]",
      "text/plain": [
       "<Figure size 720x432 with 1 Axes>"
      ]
     },
     "metadata": {
      "needs_background": "light"
     },
     "output_type": "display_data"
    }
   ],
   "source": [
    "# Graph Loss\n",
    "\n",
    "plt.figure(figsize=(10,6))\n",
    "plt.grid()\n",
    "epoch_list = [i for i in range(len(df.index))]\n",
    "sns.lineplot(epoch_list, df['loss'], label='train')\n",
    "sns.lineplot(epoch_list, df['val_loss'], label='test')\n",
    "plt.title(\"Loss\")\n",
    "plt.xlabel(\"Epoch\")\n",
    "plt.xticks(np.arange(0, 20));"
   ]
  },
  {
   "cell_type": "code",
   "execution_count": 85,
   "metadata": {},
   "outputs": [
    {
     "name": "stderr",
     "output_type": "stream",
     "text": [
      "/Users/andrewlee/.local/share/virtualenvs/DS-Unit-4-Sprint-2-Neural-Networks-8Xg_7Ctg/lib/python3.8/site-packages/seaborn/_decorators.py:36: FutureWarning: Pass the following variables as keyword args: x, y. From version 0.12, the only valid positional argument will be `data`, and passing other arguments without an explicit keyword will result in an error or misinterpretation.\n",
      "  warnings.warn(\n",
      "/Users/andrewlee/.local/share/virtualenvs/DS-Unit-4-Sprint-2-Neural-Networks-8Xg_7Ctg/lib/python3.8/site-packages/seaborn/_decorators.py:36: FutureWarning: Pass the following variables as keyword args: x, y. From version 0.12, the only valid positional argument will be `data`, and passing other arguments without an explicit keyword will result in an error or misinterpretation.\n",
      "  warnings.warn(\n"
     ]
    },
    {
     "data": {
      "image/png": "[encoded data removed]",
      "text/plain": [
       "<Figure size 720x432 with 1 Axes>"
      ]
     },
     "metadata": {
      "needs_background": "light"
     },
     "output_type": "display_data"
    }
   ],
   "source": [
    "# Graph Accuracy\n",
    "\n",
    "plt.figure(figsize=(10,6))\n",
    "plt.grid()\n",
    "sns.lineplot(epoch_list, df['accuracy'], label='train')\n",
    "sns.lineplot(epoch_list, df['val_accuracy'], label='test')\n",
    "plt.title(\"Accuracy\")\n",
    "plt.xlabel(\"Epoch\")\n",
    "plt.xticks(np.arange(0,20));"
   ]
  },
  {
   "cell_type": "code",
   "execution_count": 86,
   "metadata": {},
   "outputs": [],
   "source": [
    "# a check on our model training\n",
    "assert df.shape[0] == 20, \"df should have the training results from 20 epochs\""
   ]
  },
  {
   "cell_type": "code",
   "execution_count": null,
   "metadata": {
    "colab": {},
    "colab_type": "code",
    "deletable": false,
    "id": "ijAlzfYKAFaY",
    "nbgrader": {
     "cell_type": "code",
     "checksum": "424d241660318a72ecda935be10485d7",
     "grade": false,
     "grade_id": "cell-96dba18873c4cffc",
     "locked": false,
     "schema_version": 3,
     "solution": true,
     "task": false
    }
   },
   "outputs": [],
   "source": []
  },
  {
   "cell_type": "markdown",
   "metadata": {},
   "source": [
    "### Observations \n",
    "\n",
    "Based on the plot of the training and validation loss answer the following questions. "
   ]
  },
  {
   "cell_type": "markdown",
   "metadata": {},
   "source": [
    "**Was our model able to learn over the course of the 20 epochs? Why or why not?**"
   ]
  },
  {
   "cell_type": "markdown",
   "metadata": {
    "deletable": false,
    "nbgrader": {
     "cell_type": "markdown",
     "checksum": "b7713eb32ad3a910a58dfdb9494a9db3",
     "grade": true,
     "grade_id": "cell-820990a8232a858a",
     "locked": false,
     "points": 0,
     "schema_version": 3,
     "solution": true,
     "task": false
    }
   },
   "source": [
    "Yes, over the course of 20 epochs, the model's loss decreased and accuracy increased significantly."
   ]
  },
  {
   "cell_type": "markdown",
   "metadata": {},
   "source": [
    "**Is our model overfitting? Why or why not?**"
   ]
  },
  {
   "cell_type": "markdown",
   "metadata": {
    "deletable": false,
    "nbgrader": {
     "cell_type": "markdown",
     "checksum": "1d30c64465cd35081d70578c20ecf96d",
     "grade": true,
     "grade_id": "cell-33868e7ef6e401b5",
     "locked": false,
     "points": 0,
     "schema_version": 3,
     "solution": true,
     "task": false
    }
   },
   "source": [
    "Our model is not overfitting because the train and test curves (for loss and accuracy) are close together. This means that our model generalizes well on test data."
   ]
  },
  {
   "cell_type": "markdown",
   "metadata": {},
   "source": [
    "**Could the model score benefit from additional epochs? Why or why not?**"
   ]
  },
  {
   "cell_type": "markdown",
   "metadata": {
    "deletable": false,
    "nbgrader": {
     "cell_type": "markdown",
     "checksum": "0fc2208e2c78461578fc7a05224066b8",
     "grade": true,
     "grade_id": "cell-5c883f0a3161e469",
     "locked": false,
     "points": 0,
     "schema_version": 3,
     "solution": true,
     "task": false
    }
   },
   "source": [
    "Yes, but we will find additional epochs will result in diminishing returns to our accuracy, as we've observed already."
   ]
  },
  {
   "cell_type": "markdown",
   "metadata": {
    "colab_type": "text",
    "id": "MAhBrcE4yOZe"
   },
   "source": [
    "-----\n",
    "## Change Optimizers\n",
    "\n",
    "Let's compare model performance between difference optimizers. \n",
    "- Build a new model, identical as the last one but using `adam` for the optimizer. \n",
    "- Visualize the training results just as we did for the last model. \n",
    "- Save modeling results to adam_history so we don't erase the results from the previous model run"
   ]
  },
  {
   "cell_type": "code",
   "execution_count": 90,
   "metadata": {
    "colab": {},
    "colab_type": "code",
    "deletable": false,
    "id": "jIW_spOZ0cxy",
    "nbgrader": {
     "cell_type": "code",
     "checksum": "6d30d8c6f4521861a77c9ef04dbde904",
     "grade": false,
     "grade_id": "cell-56663c8a5e75b71f",
     "locked": false,
     "schema_version": 3,
     "solution": true,
     "task": false
    }
   },
   "outputs": [],
   "source": [
    "# train same model as above but use sgd if you used adam previously ( or use adam if you used sgd previously)\n",
    "\n",
    "model = Sequential()\n",
    "\n",
    "# Hidden layers / input layer\n",
    "model.add(Dense(500,\n",
    "                 activation=\"sigmoid\",\n",
    "                 input_dim=input_dim))\n",
    "\n",
    "model.add(Dense(250,\n",
    "                 activation=\"sigmoid\"))\n",
    "\n",
    "model.add(Dense(100,\n",
    "                 activation=\"sigmoid\"))\n",
    "\n",
    "# Output layer\n",
    "model.add(Dense(n_output_nodes,\n",
    "                 activation=\"softmax\"))\n",
    "\n",
    "# Compile Model\n",
    "model.compile(optimizer=\"adam\",\n",
    "               loss=\"sparse_categorical_crossentropy\",\n",
    "               metrics=[\"accuracy\"])"
   ]
  },
  {
   "cell_type": "code",
   "execution_count": 91,
   "metadata": {},
   "outputs": [],
   "source": [
    "# a check that we're using the correct optimizer in this model\n",
    "opt_name = model.optimizer.get_config()[\"name\"]\n",
    "assert opt_name == \"Adam\", \"you need to use adam for the optimizer in this model.\""
   ]
  },
  {
   "cell_type": "code",
   "execution_count": 92,
   "metadata": {},
   "outputs": [
    {
     "name": "stdout",
     "output_type": "stream",
     "text": [
      "Model: \"sequential_4\"\n",
      "_________________________________________________________________\n",
      "Layer (type)                 Output Shape              Param #   \n",
      "=================================================================\n",
      "dense_14 (Dense)             (None, 500)               392500    \n",
      "_________________________________________________________________\n",
      "dense_15 (Dense)             (None, 250)               125250    \n",
      "_________________________________________________________________\n",
      "dense_16 (Dense)             (None, 100)               25100     \n",
      "_________________________________________________________________\n",
      "dense_17 (Dense)             (None, 10)                1010      \n",
      "=================================================================\n",
      "Total params: 543,860\n",
      "Trainable params: 543,860\n",
      "Non-trainable params: 0\n",
      "_________________________________________________________________\n"
     ]
    }
   ],
   "source": [
    "model.summary()"
   ]
  },
  {
   "cell_type": "code",
   "execution_count": 93,
   "metadata": {},
   "outputs": [
    {
     "name": "stdout",
     "output_type": "stream",
     "text": [
      "Epoch 1/20\n",
      "2500/2500 [==============================] - 7s 3ms/step - loss: 1.0162 - accuracy: 0.6783 - val_loss: 0.5767 - val_accuracy: 0.8214\n",
      "Epoch 2/20\n",
      "2500/2500 [==============================] - 7s 3ms/step - loss: 0.5187 - accuracy: 0.8415 - val_loss: 0.4895 - val_accuracy: 0.8497\n",
      "Epoch 3/20\n",
      "2500/2500 [==============================] - 6s 2ms/step - loss: 0.4267 - accuracy: 0.8712 - val_loss: 0.4350 - val_accuracy: 0.8681\n",
      "Epoch 4/20\n",
      "2500/2500 [==============================] - 6s 3ms/step - loss: 0.3625 - accuracy: 0.8899 - val_loss: 0.4026 - val_accuracy: 0.8803\n",
      "Epoch 5/20\n",
      "2500/2500 [==============================] - 7s 3ms/step - loss: 0.3114 - accuracy: 0.9070 - val_loss: 0.4062 - val_accuracy: 0.8788\n",
      "Epoch 6/20\n",
      "2500/2500 [==============================] - 7s 3ms/step - loss: 0.2780 - accuracy: 0.9155 - val_loss: 0.3985 - val_accuracy: 0.8862\n",
      "Epoch 7/20\n",
      "2500/2500 [==============================] - 7s 3ms/step - loss: 0.2374 - accuracy: 0.9294 - val_loss: 0.4167 - val_accuracy: 0.8817\n",
      "Epoch 8/20\n",
      "2500/2500 [==============================] - 7s 3ms/step - loss: 0.2077 - accuracy: 0.9384 - val_loss: 0.4306 - val_accuracy: 0.8834\n",
      "Epoch 9/20\n",
      "2500/2500 [==============================] - 7s 3ms/step - loss: 0.1768 - accuracy: 0.9482 - val_loss: 0.4258 - val_accuracy: 0.8867\n",
      "Epoch 10/20\n",
      "2500/2500 [==============================] - 7s 3ms/step - loss: 0.1534 - accuracy: 0.9543 - val_loss: 0.4523 - val_accuracy: 0.8844\n",
      "Epoch 11/20\n",
      "2500/2500 [==============================] - 6s 2ms/step - loss: 0.1326 - accuracy: 0.9605 - val_loss: 0.4679 - val_accuracy: 0.8832\n",
      "Epoch 12/20\n",
      "2500/2500 [==============================] - 7s 3ms/step - loss: 0.1155 - accuracy: 0.9651 - val_loss: 0.4953 - val_accuracy: 0.8859\n",
      "Epoch 13/20\n",
      "2500/2500 [==============================] - 7s 3ms/step - loss: 0.1001 - accuracy: 0.9699 - val_loss: 0.5117 - val_accuracy: 0.8852\n",
      "Epoch 14/20\n",
      "2500/2500 [==============================] - 6s 2ms/step - loss: 0.0904 - accuracy: 0.9735 - val_loss: 0.5624 - val_accuracy: 0.8817\n",
      "Epoch 15/20\n",
      "2500/2500 [==============================] - 6s 2ms/step - loss: 0.0836 - accuracy: 0.9752 - val_loss: 0.5871 - val_accuracy: 0.8792\n",
      "Epoch 16/20\n",
      "2500/2500 [==============================] - 7s 3ms/step - loss: 0.0682 - accuracy: 0.9794 - val_loss: 0.6033 - val_accuracy: 0.8825\n",
      "Epoch 17/20\n",
      "2500/2500 [==============================] - 7s 3ms/step - loss: 0.0595 - accuracy: 0.9817 - val_loss: 0.6242 - val_accuracy: 0.8819\n",
      "Epoch 18/20\n",
      "2500/2500 [==============================] - 7s 3ms/step - loss: 0.0554 - accuracy: 0.9834 - val_loss: 0.6538 - val_accuracy: 0.8813\n",
      "Epoch 19/20\n",
      "2500/2500 [==============================] - 6s 2ms/step - loss: 0.0503 - accuracy: 0.9842 - val_loss: 0.6922 - val_accuracy: 0.8774\n",
      "Epoch 20/20\n",
      "2500/2500 [==============================] - 7s 3ms/step - loss: 0.0443 - accuracy: 0.9861 - val_loss: 0.6644 - val_accuracy: 0.8814\n"
     ]
    }
   ],
   "source": [
    "adam_history = model.fit(X,\n",
    "                        y,\n",
    "                        epochs=epochs,\n",
    "                        validation_split=0.2)"
   ]
  },
  {
   "cell_type": "code",
   "execution_count": 104,
   "metadata": {},
   "outputs": [
    {
     "data": {
      "text/html": [
       "<div>\n",
       "<style scoped>\n",
       "    .dataframe tbody tr th:only-of-type {\n",
       "        vertical-align: middle;\n",
       "    }\n",
       "\n",
       "    .dataframe tbody tr th {\n",
       "        vertical-align: top;\n",
       "    }\n",
       "\n",
       "    .dataframe thead th {\n",
       "        text-align: right;\n",
       "    }\n",
       "</style>\n",
       "<table border=\"1\" class=\"dataframe\">\n",
       "  <thead>\n",
       "    <tr style=\"text-align: right;\">\n",
       "      <th></th>\n",
       "      <th>loss</th>\n",
       "      <th>accuracy</th>\n",
       "      <th>val_loss</th>\n",
       "      <th>val_accuracy</th>\n",
       "    </tr>\n",
       "  </thead>\n",
       "  <tbody>\n",
       "    <tr>\n",
       "      <th>0</th>\n",
       "      <td>0.753894</td>\n",
       "      <td>0.767300</td>\n",
       "      <td>0.576666</td>\n",
       "      <td>0.82145</td>\n",
       "    </tr>\n",
       "    <tr>\n",
       "      <th>1</th>\n",
       "      <td>0.502178</td>\n",
       "      <td>0.846750</td>\n",
       "      <td>0.489465</td>\n",
       "      <td>0.84975</td>\n",
       "    </tr>\n",
       "    <tr>\n",
       "      <th>2</th>\n",
       "      <td>0.418224</td>\n",
       "      <td>0.873525</td>\n",
       "      <td>0.434957</td>\n",
       "      <td>0.86815</td>\n",
       "    </tr>\n",
       "    <tr>\n",
       "      <th>3</th>\n",
       "      <td>0.363904</td>\n",
       "      <td>0.888937</td>\n",
       "      <td>0.402601</td>\n",
       "      <td>0.88035</td>\n",
       "    </tr>\n",
       "    <tr>\n",
       "      <th>4</th>\n",
       "      <td>0.317923</td>\n",
       "      <td>0.904775</td>\n",
       "      <td>0.406180</td>\n",
       "      <td>0.87880</td>\n",
       "    </tr>\n",
       "  </tbody>\n",
       "</table>\n",
       "</div>"
      ],
      "text/plain": [
       "       loss  accuracy  val_loss  val_accuracy\n",
       "0  0.753894  0.767300  0.576666       0.82145\n",
       "1  0.502178  0.846750  0.489465       0.84975\n",
       "2  0.418224  0.873525  0.434957       0.86815\n",
       "3  0.363904  0.888937  0.402601       0.88035\n",
       "4  0.317923  0.904775  0.406180       0.87880"
      ]
     },
     "execution_count": 104,
     "metadata": {},
     "output_type": "execute_result"
    }
   ],
   "source": [
    "df_adam = pd.DataFrame(adam_history.history)\n",
    "df_adam.head()"
   ]
  },
  {
   "cell_type": "code",
   "execution_count": 102,
   "metadata": {},
   "outputs": [
    {
     "name": "stderr",
     "output_type": "stream",
     "text": [
      "/Users/andrewlee/.local/share/virtualenvs/DS-Unit-4-Sprint-2-Neural-Networks-8Xg_7Ctg/lib/python3.8/site-packages/seaborn/_decorators.py:36: FutureWarning: Pass the following variables as keyword args: x, y. From version 0.12, the only valid positional argument will be `data`, and passing other arguments without an explicit keyword will result in an error or misinterpretation.\n",
      "  warnings.warn(\n",
      "/Users/andrewlee/.local/share/virtualenvs/DS-Unit-4-Sprint-2-Neural-Networks-8Xg_7Ctg/lib/python3.8/site-packages/seaborn/_decorators.py:36: FutureWarning: Pass the following variables as keyword args: x, y. From version 0.12, the only valid positional argument will be `data`, and passing other arguments without an explicit keyword will result in an error or misinterpretation.\n",
      "  warnings.warn(\n"
     ]
    },
    {
     "data": {
      "image/png": "[encoded data removed]",
      "text/plain": [
       "<Figure size 720x432 with 1 Axes>"
      ]
     },
     "metadata": {
      "needs_background": "light"
     },
     "output_type": "display_data"
    }
   ],
   "source": [
    "\n",
    "plt.figure(figsize=(10,6))\n",
    "sns.lineplot(epoch_list, df_adam['loss'], label=\"train\")\n",
    "sns.lineplot(epoch_list, df_adam['val_loss'], label=\"test\")\n",
    "plt.title(\"Loss - Adam\")\n",
    "plt.xlabel(\"Epochs\")\n",
    "plt.xticks(np.arange(0,20));"
   ]
  },
  {
   "cell_type": "code",
   "execution_count": 105,
   "metadata": {
    "deletable": false,
    "nbgrader": {
     "cell_type": "code",
     "checksum": "1a4c01aa7dbcc832d75b05bffaeaacc8",
     "grade": false,
     "grade_id": "cell-20118d1646215346",
     "locked": false,
     "schema_version": 3,
     "solution": true,
     "task": false
    }
   },
   "outputs": [
    {
     "name": "stderr",
     "output_type": "stream",
     "text": [
      "/Users/andrewlee/.local/share/virtualenvs/DS-Unit-4-Sprint-2-Neural-Networks-8Xg_7Ctg/lib/python3.8/site-packages/seaborn/_decorators.py:36: FutureWarning: Pass the following variables as keyword args: x, y. From version 0.12, the only valid positional argument will be `data`, and passing other arguments without an explicit keyword will result in an error or misinterpretation.\n",
      "  warnings.warn(\n",
      "/Users/andrewlee/.local/share/virtualenvs/DS-Unit-4-Sprint-2-Neural-Networks-8Xg_7Ctg/lib/python3.8/site-packages/seaborn/_decorators.py:36: FutureWarning: Pass the following variables as keyword args: x, y. From version 0.12, the only valid positional argument will be `data`, and passing other arguments without an explicit keyword will result in an error or misinterpretation.\n",
      "  warnings.warn(\n"
     ]
    },
    {
     "data": {
      "image/png": "[encoded data removed]",
      "text/plain": [
       "<Figure size 720x432 with 1 Axes>"
      ]
     },
     "metadata": {
      "needs_background": "light"
     },
     "output_type": "display_data"
    }
   ],
   "source": [
    "plt.figure(figsize=(10,6))\n",
    "sns.lineplot(epoch_list, df_adam['accuracy'], label=\"train\")\n",
    "sns.lineplot(epoch_list, df_adam['val_accuracy'], label=\"test\")\n",
    "plt.title(\"Accuracy - Adam\")\n",
    "plt.xlabel(\"Epochs\")\n",
    "plt.xticks(np.arange(0,20));"
   ]
  },
  {
   "cell_type": "markdown",
   "metadata": {},
   "source": [
    "### Observations \n",
    "\n",
    "This plot should look very different from the previous plot. Based on the plot of the training and validation loss answer the following questions. "
   ]
  },
  {
   "cell_type": "markdown",
   "metadata": {},
   "source": [
    "**Is our model overfitting? Why or why not?**"
   ]
  },
  {
   "cell_type": "markdown",
   "metadata": {
    "deletable": false,
    "nbgrader": {
     "cell_type": "markdown",
     "checksum": "fa4141497af675d227aa510feb8db732",
     "grade": true,
     "grade_id": "cell-7e524ccac970c33e",
     "locked": false,
     "points": 0,
     "schema_version": 3,
     "solution": true,
     "task": false
    }
   },
   "source": [
    "The model is overfitting because the model is not generalizing well to the test data. "
   ]
  },
  {
   "cell_type": "markdown",
   "metadata": {},
   "source": [
    "**Could our model's performance improve by training on more than 20 epochs? Why or why not?**"
   ]
  },
  {
   "cell_type": "markdown",
   "metadata": {
    "deletable": false,
    "nbgrader": {
     "cell_type": "markdown",
     "checksum": "ae03b8b897eb5d052590574ab3bba839",
     "grade": true,
     "grade_id": "cell-456c40e885652955",
     "locked": false,
     "points": 0,
     "schema_version": 3,
     "solution": true,
     "task": false
    }
   },
   "source": [
    "Training on more epochs would not improve our model. The accuracy of the test set does not improve with more epochs and the loss seems to get worse as more epochs are run."
   ]
  },
  {
   "cell_type": "markdown",
   "metadata": {},
   "source": [
    "**Assuming that you want to stick to this model architecture, what can you do to avoid overfitting?**"
   ]
  },
  {
   "cell_type": "markdown",
   "metadata": {
    "deletable": false,
    "nbgrader": {
     "cell_type": "markdown",
     "checksum": "9f5a9393314231d3ce253363c1df1223",
     "grade": true,
     "grade_id": "cell-74d7def19c66702b",
     "locked": false,
     "points": 0,
     "schema_version": 3,
     "solution": true,
     "task": false
    }
   },
   "source": [
    "We could simplify the model by tweaking the number of nodes in each hidden layer.\n",
    "\n",
    "We could also simplify the model by reducing the number of hidden layers."
   ]
  },
  {
   "cell_type": "markdown",
   "metadata": {},
   "source": [
    "------\n",
    "# Conclusion \n",
    "\n",
    "What you have observed by comparing the two models that are identitical, except for the optimizer, is that the choice of the optimizer can have a very big influence in the training outcome of ML models in general and in a neural networks in particuar. \n",
    "\n",
    "You might not actually know \n",
    "\n",
    "- why changing the optimizer from Stocastic Gradient Descent over to Adam made a difference.\n",
    "- how Gradient Desecent works \n",
    "- or that Adam is known as Adaptive Gradient Descent (i.e. is it a different version of ordinary Gradient Descent). \n",
    "\n",
    "But that's ok - tomorrow's lesson will be a deep dive into Gradient Descent. You'll learn the theory of Gradient Descent, we'll code up Gradient Descent from scratch, and we'll talk about how Adam is different from ordinary Gradient Descent. "
   ]
  },
  {
   "cell_type": "markdown",
   "metadata": {},
   "source": [
    "-----\n",
    "# Preparation for Tomorrow \n",
    "\n",
    "In Preparation for tomorrow, you might need to watch a few videos. I say might because you may or may not already be comfortable with multi-variate calculus. \n",
    "\n",
    "### Theory of Calculus \n",
    "The theory of Gradient Descent rest on [**the derivative from Calculus**](https://www.youtube.com/watch?v=WUvTyaaNkzM). If you've never taken a Calculus course before, or are a bit rusty, definitely watch this video in preparation for tomorrow's lesson. The take away here is to conceptually understand the derivative, you won't be asked to actually calculate any derivatives by hand. \n",
    "\n",
    "### The Gradient - a multi-dimensional derivative\n",
    "Once you've watched the previous video, you are now set up to  understand how to conceptualize a derivative in an N-dimensional space (where N is any number ranging from 2, 3, 4, ..., all the way to a very large number of dimensions N ) [**This video visually explains the multi-dimensional derivative called the Gradient visually**](https://www.youtube.com/watch?v=GkB4vW16QHI) - and that's the take away. This point of this video is to help you understand the Gradient visually using 3D surfaces. You should also know that the Gradient is made of up partial derivatives, more on this tomorrow. \n",
    "\n",
    "### Contour Maps \n",
    "It is very common to visual 3D surfaces as 2D contour maps - and we'll be making a lot of use of contour maps to understand Gradient Descent. Watch this video in order to [**understand the relationship between 3D surfaces and 2D contour maps**](https://www.youtube.com/watch?v=acdX4YamDtU)\n",
    "\n",
    "### The Calculus of Backpropagation \n",
    "\n",
    "Unlike standard Sklearn ML models, neural networks use not just Gradient Descent but also something called Backpropagation in order to learn from the data. [**In order to understand how backpropagation works, you need to understand the Chain Rule in Calculus**](https://www.youtube.com/watch?v=acdX4YamDtU). The take away here is to understand how a partial derivative can be decomposed into a product of multiple derivatives. "
   ]
  },
  {
   "cell_type": "markdown",
   "metadata": {},
   "source": [
    "------\n",
    "# Stretch Goals\n",
    "\n",
    "### This section is optional!\n",
    "\n",
    "Only after you've completed the above work and watched the recommended videos, are you then encouraged to experiment with building a few more models and analyze their results. \n",
    "\n",
    "Here are some suggestions to help you get started. \n",
    "\n",
    "- Train the same model using the Sigmoid activation fucntion and the Relu activation function and note the difference in their learning outcomes.  [**Keras docs on activation fucntions**](https://keras.io/api/layers/activations/). We'll cover the Relu activation function in Sprint 2 Module 3.\n",
    "- Train the same model using Normalized and non-Normalized data and note the difference in their learning outcomes. \n",
    "\n",
    "\n",
    "The objective here is to give you an oppertunity to get more practice with the Keras API (i.e. building models) and running a couple of experiments to help set you up for future lessons. In order words, we'll be discussing different activation functions and the affect of Normalized data on model training. "
   ]
  },
  {
   "cell_type": "markdown",
   "metadata": {},
   "source": [
    "# Let's simplify the Adam model"
   ]
  },
  {
   "cell_type": "code",
   "execution_count": 106,
   "metadata": {},
   "outputs": [],
   "source": [
    "# train same model as above but use sgd if you used adam previously ( or use adam if you used sgd previously)\n",
    "\n",
    "model = Sequential()\n",
    "\n",
    "# Hidden layers / input layer\n",
    "model.add(Dense(250,\n",
    "                 activation=\"sigmoid\",\n",
    "                 input_dim=input_dim))\n",
    "\n",
    "model.add(Dense(100,\n",
    "                 activation=\"sigmoid\"))\n",
    "\n",
    "# Output layer\n",
    "model.add(Dense(n_output_nodes,\n",
    "                 activation=\"softmax\"))\n",
    "\n",
    "# Compile Model\n",
    "model.compile(optimizer=\"adam\",\n",
    "               loss=\"sparse_categorical_crossentropy\",\n",
    "               metrics=[\"accuracy\"])"
   ]
  },
  {
   "cell_type": "code",
   "execution_count": 107,
   "metadata": {},
   "outputs": [
    {
     "name": "stdout",
     "output_type": "stream",
     "text": [
      "Epoch 1/20\n",
      "2500/2500 [==============================] - 4s 2ms/step - loss: 1.0208 - accuracy: 0.6921 - val_loss: 0.5756 - val_accuracy: 0.8280\n",
      "Epoch 2/20\n",
      "2500/2500 [==============================] - 3s 1ms/step - loss: 0.5424 - accuracy: 0.8375 - val_loss: 0.5066 - val_accuracy: 0.8476\n",
      "Epoch 3/20\n",
      "2500/2500 [==============================] - 3s 1ms/step - loss: 0.4470 - accuracy: 0.8654 - val_loss: 0.4437 - val_accuracy: 0.8661\n",
      "Epoch 4/20\n",
      "2500/2500 [==============================] - 3s 1ms/step - loss: 0.3842 - accuracy: 0.8852 - val_loss: 0.4297 - val_accuracy: 0.8738\n",
      "Epoch 5/20\n",
      "2500/2500 [==============================] - 3s 1ms/step - loss: 0.3347 - accuracy: 0.8998 - val_loss: 0.4345 - val_accuracy: 0.8684\n",
      "Epoch 6/20\n",
      "2500/2500 [==============================] - 4s 1ms/step - loss: 0.3014 - accuracy: 0.9096 - val_loss: 0.4354 - val_accuracy: 0.8745\n",
      "Epoch 7/20\n",
      "2500/2500 [==============================] - 3s 1ms/step - loss: 0.2689 - accuracy: 0.9191 - val_loss: 0.4149 - val_accuracy: 0.8806\n",
      "Epoch 8/20\n",
      "2500/2500 [==============================] - 3s 1ms/step - loss: 0.2447 - accuracy: 0.9278 - val_loss: 0.4224 - val_accuracy: 0.8816\n",
      "Epoch 9/20\n",
      "2500/2500 [==============================] - 3s 1ms/step - loss: 0.2186 - accuracy: 0.9356 - val_loss: 0.4244 - val_accuracy: 0.8796\n",
      "Epoch 10/20\n",
      "2500/2500 [==============================] - 3s 1ms/step - loss: 0.1952 - accuracy: 0.9433 - val_loss: 0.4526 - val_accuracy: 0.8791\n",
      "Epoch 11/20\n",
      "2500/2500 [==============================] - 3s 1ms/step - loss: 0.1718 - accuracy: 0.9490 - val_loss: 0.4709 - val_accuracy: 0.8757\n",
      "Epoch 12/20\n",
      "2500/2500 [==============================] - 3s 1ms/step - loss: 0.1523 - accuracy: 0.9565 - val_loss: 0.4865 - val_accuracy: 0.8755\n",
      "Epoch 13/20\n",
      "2500/2500 [==============================] - 4s 1ms/step - loss: 0.1351 - accuracy: 0.9604 - val_loss: 0.5049 - val_accuracy: 0.8728\n",
      "Epoch 14/20\n",
      "2500/2500 [==============================] - 4s 1ms/step - loss: 0.1221 - accuracy: 0.9633 - val_loss: 0.5289 - val_accuracy: 0.8709\n",
      "Epoch 15/20\n",
      "2500/2500 [==============================] - 4s 1ms/step - loss: 0.1067 - accuracy: 0.9699 - val_loss: 0.5606 - val_accuracy: 0.8698\n",
      "Epoch 16/20\n",
      "2500/2500 [==============================] - 3s 1ms/step - loss: 0.0935 - accuracy: 0.9731 - val_loss: 0.5711 - val_accuracy: 0.8727\n",
      "Epoch 17/20\n",
      "2500/2500 [==============================] - 3s 1ms/step - loss: 0.0835 - accuracy: 0.9761 - val_loss: 0.6011 - val_accuracy: 0.8727\n",
      "Epoch 18/20\n",
      "2500/2500 [==============================] - 3s 1ms/step - loss: 0.0778 - accuracy: 0.9780 - val_loss: 0.6140 - val_accuracy: 0.8711\n",
      "Epoch 19/20\n",
      "2500/2500 [==============================] - 3s 1ms/step - loss: 0.0642 - accuracy: 0.9824 - val_loss: 0.6528 - val_accuracy: 0.8712\n",
      "Epoch 20/20\n",
      "2500/2500 [==============================] - 4s 1ms/step - loss: 0.0629 - accuracy: 0.9820 - val_loss: 0.6774 - val_accuracy: 0.8654\n"
     ]
    }
   ],
   "source": [
    "adam_history_2 = model.fit(X,\n",
    "                        y,\n",
    "                        epochs=epochs,\n",
    "                        validation_split=0.2)"
   ]
  },
  {
   "cell_type": "code",
   "execution_count": 110,
   "metadata": {},
   "outputs": [
    {
     "data": {
      "text/html": [
       "<div>\n",
       "<style scoped>\n",
       "    .dataframe tbody tr th:only-of-type {\n",
       "        vertical-align: middle;\n",
       "    }\n",
       "\n",
       "    .dataframe tbody tr th {\n",
       "        vertical-align: top;\n",
       "    }\n",
       "\n",
       "    .dataframe thead th {\n",
       "        text-align: right;\n",
       "    }\n",
       "</style>\n",
       "<table border=\"1\" class=\"dataframe\">\n",
       "  <thead>\n",
       "    <tr style=\"text-align: right;\">\n",
       "      <th></th>\n",
       "      <th>loss</th>\n",
       "      <th>accuracy</th>\n",
       "      <th>val_loss</th>\n",
       "      <th>val_accuracy</th>\n",
       "    </tr>\n",
       "  </thead>\n",
       "  <tbody>\n",
       "    <tr>\n",
       "      <th>0</th>\n",
       "      <td>0.771715</td>\n",
       "      <td>0.769150</td>\n",
       "      <td>0.575601</td>\n",
       "      <td>0.82795</td>\n",
       "    </tr>\n",
       "    <tr>\n",
       "      <th>1</th>\n",
       "      <td>0.519051</td>\n",
       "      <td>0.843875</td>\n",
       "      <td>0.506596</td>\n",
       "      <td>0.84760</td>\n",
       "    </tr>\n",
       "    <tr>\n",
       "      <th>2</th>\n",
       "      <td>0.437910</td>\n",
       "      <td>0.867912</td>\n",
       "      <td>0.443698</td>\n",
       "      <td>0.86610</td>\n",
       "    </tr>\n",
       "    <tr>\n",
       "      <th>3</th>\n",
       "      <td>0.384714</td>\n",
       "      <td>0.883950</td>\n",
       "      <td>0.429671</td>\n",
       "      <td>0.87385</td>\n",
       "    </tr>\n",
       "    <tr>\n",
       "      <th>4</th>\n",
       "      <td>0.343510</td>\n",
       "      <td>0.896925</td>\n",
       "      <td>0.434509</td>\n",
       "      <td>0.86840</td>\n",
       "    </tr>\n",
       "  </tbody>\n",
       "</table>\n",
       "</div>"
      ],
      "text/plain": [
       "       loss  accuracy  val_loss  val_accuracy\n",
       "0  0.771715  0.769150  0.575601       0.82795\n",
       "1  0.519051  0.843875  0.506596       0.84760\n",
       "2  0.437910  0.867912  0.443698       0.86610\n",
       "3  0.384714  0.883950  0.429671       0.87385\n",
       "4  0.343510  0.896925  0.434509       0.86840"
      ]
     },
     "execution_count": 110,
     "metadata": {},
     "output_type": "execute_result"
    }
   ],
   "source": [
    "df_adam_2 = pd.DataFrame(adam_history_2.history)\n",
    "df_adam_2.head()"
   ]
  },
  {
   "cell_type": "code",
   "execution_count": 111,
   "metadata": {},
   "outputs": [
    {
     "name": "stderr",
     "output_type": "stream",
     "text": [
      "/Users/andrewlee/.local/share/virtualenvs/DS-Unit-4-Sprint-2-Neural-Networks-8Xg_7Ctg/lib/python3.8/site-packages/seaborn/_decorators.py:36: FutureWarning: Pass the following variables as keyword args: x, y. From version 0.12, the only valid positional argument will be `data`, and passing other arguments without an explicit keyword will result in an error or misinterpretation.\n",
      "  warnings.warn(\n",
      "/Users/andrewlee/.local/share/virtualenvs/DS-Unit-4-Sprint-2-Neural-Networks-8Xg_7Ctg/lib/python3.8/site-packages/seaborn/_decorators.py:36: FutureWarning: Pass the following variables as keyword args: x, y. From version 0.12, the only valid positional argument will be `data`, and passing other arguments without an explicit keyword will result in an error or misinterpretation.\n",
      "  warnings.warn(\n"
     ]
    },
    {
     "data": {
      "image/png": "[encoded data removed]",
      "text/plain": [
       "<Figure size 720x432 with 1 Axes>"
      ]
     },
     "metadata": {
      "needs_background": "light"
     },
     "output_type": "display_data"
    }
   ],
   "source": [
    "# Graph Loss\n",
    "plt.figure(figsize=(10,6))\n",
    "sns.lineplot(epoch_list, df_adam_2['loss'], label=\"train\")\n",
    "sns.lineplot(epoch_list, df_adam_2['val_loss'], label=\"test\")\n",
    "plt.title(\"Loss - Adam_2\")\n",
    "plt.xlabel(\"Epochs\")\n",
    "plt.xticks(np.arange(0,20));"
   ]
  },
  {
   "cell_type": "code",
   "execution_count": 112,
   "metadata": {},
   "outputs": [
    {
     "name": "stderr",
     "output_type": "stream",
     "text": [
      "/Users/andrewlee/.local/share/virtualenvs/DS-Unit-4-Sprint-2-Neural-Networks-8Xg_7Ctg/lib/python3.8/site-packages/seaborn/_decorators.py:36: FutureWarning: Pass the following variables as keyword args: x, y. From version 0.12, the only valid positional argument will be `data`, and passing other arguments without an explicit keyword will result in an error or misinterpretation.\n",
      "  warnings.warn(\n",
      "/Users/andrewlee/.local/share/virtualenvs/DS-Unit-4-Sprint-2-Neural-Networks-8Xg_7Ctg/lib/python3.8/site-packages/seaborn/_decorators.py:36: FutureWarning: Pass the following variables as keyword args: x, y. From version 0.12, the only valid positional argument will be `data`, and passing other arguments without an explicit keyword will result in an error or misinterpretation.\n",
      "  warnings.warn(\n"
     ]
    },
    {
     "data": {
      "image/png": "[encoded data removed]",
      "text/plain": [
       "<Figure size 720x432 with 1 Axes>"
      ]
     },
     "metadata": {
      "needs_background": "light"
     },
     "output_type": "display_data"
    }
   ],
   "source": [
    "# Graph Accuracy\n",
    "\n",
    "plt.figure(figsize=(10,6))\n",
    "sns.lineplot(epoch_list, df_adam_2['accuracy'], label=\"train\")\n",
    "sns.lineplot(epoch_list, df_adam_2['val_accuracy'], label=\"test\")\n",
    "plt.title(\"Accuracy - Adam_2\")\n",
    "plt.xlabel(\"Epochs\")\n",
    "plt.xticks(np.arange(0,20));"
   ]
  },
  {
   "cell_type": "code",
   "execution_count": null,
   "metadata": {},
   "outputs": [],
   "source": []
  }
 ],
 "metadata": {
  "accelerator": "GPU",
  "colab": {
   "collapsed_sections": [],
   "name": "LS_DS_432_TensorFlow_Assignment",
   "provenance": []
  },
  "kernelspec": {
   "display_name": "Python 3",
   "language": "python",
   "name": "python3"
  },
  "language_info": {
   "codemirror_mode": {
    "name": "ipython",
    "version": 3
   },
   "file_extension": ".py",
   "mimetype": "text/x-python",
   "name": "python",
   "nbconvert_exporter": "python",
   "pygments_lexer": "ipython3",
   "version": "3.8.2"
  }
 },
 "nbformat": 4,
 "nbformat_minor": 4
}
